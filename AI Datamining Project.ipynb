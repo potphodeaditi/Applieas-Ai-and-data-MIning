{
 "cells": [
  {
   "cell_type": "code",
   "execution_count": 1,
   "id": "9a23fc37-f483-4608-a820-80a478d459a1",
   "metadata": {},
   "outputs": [
    {
     "name": "stdout",
     "output_type": "stream",
     "text": [
      "Requirement already satisfied: chardet in c:\\users\\admin\\anaconda3\\lib\\site-packages (4.0.0)\n",
      "Note: you may need to restart the kernel to use updated packages.\n"
     ]
    }
   ],
   "source": [
    "pip install chardet\n"
   ]
  },
  {
   "cell_type": "markdown",
   "id": "7f3e831a-8f9b-4e41-bfc4-6a338a014aa8",
   "metadata": {},
   "source": [
    "# Project Title:\n",
    "Fake News Detection Using Text Classification\n",
    "\n"
   ]
  },
  {
   "cell_type": "markdown",
   "id": "f0ed7fab-85ea-41bd-8c31-21cedc586d93",
   "metadata": {},
   "source": [
    "# 1.  Problem Statement:\n",
    "The spread of fake news on social media and news outlets has become a major issue affecting public opinion and even democracy. This project aims to build an AI model that can automatically detect whether a news article is real or fake based on its content, helping reduce misinformation online.\n",
    "\n",
    "\n",
    "# 2.  Dataset Description:\n",
    "# Classes:\n",
    "\n",
    " Fake News\n",
    "\n",
    " Real News (left)\n",
    "\n",
    " Real News (right) (can be separated as a third class)\n",
    "\n",
    "# Features:\n",
    "\n",
    "News title\n",
    "\n",
    "News text\n",
    "\n",
    "Subject\n",
    "\n",
    "Source\n",
    "\n",
    "Derived features (e.g., text length, sentiment score, keyword frequency)\n",
    "\n",
    "# Labels:\n",
    "\n",
    "Fake or Real (binary or multi-class, depending on how you split)\n",
    "\n",
    "Number of Samples:\n",
    "\n",
    "Over 40,000 articles"
   ]
  },
  {
   "cell_type": "markdown",
   "id": "3c14fbe3-6466-4b5f-8a59-447bde49aac5",
   "metadata": {},
   "source": [
    "# Import Libaries"
   ]
  },
  {
   "cell_type": "code",
   "execution_count": 1,
   "id": "67e951a3-195d-4bd2-a94a-1996b24b328c",
   "metadata": {},
   "outputs": [],
   "source": [
    "import pandas as pd\n",
    "import matplotlib.pyplot as plt\n",
    "import seaborn as sns\n"
   ]
  },
  {
   "cell_type": "code",
   "execution_count": 2,
   "id": "caaab652-158c-43bf-a733-a6eef32db2fe",
   "metadata": {},
   "outputs": [
    {
     "name": "stdout",
     "output_type": "stream",
     "text": [
      "label\n",
      "FAKE    23481\n",
      "REAL    21417\n",
      "Name: count, dtype: int64\n",
      "\n",
      "--- FAKE News Samples ---\n",
      "                                               title  \\\n",
      "0  Ben Stein Calls Out 9th Circuit Court: Committ...   \n",
      "3   OOPS: Trump Just Accidentally Confirmed He Le...   \n",
      "5   Paul Ryan Responds To Dem’s Sit-In On Gun Con...   \n",
      "6  AWESOME! DIAMOND AND SILK Rip Into The Press: ...   \n",
      "7  STAND UP AND CHEER! UKIP Party Leader SLAMS Ge...   \n",
      "\n",
      "                                                text          subject  \\\n",
      "0  21st Century Wire says Ben Stein, reputable pr...          US_News   \n",
      "3  On Monday, Donald Trump once again embarrassed...             News   \n",
      "5  On Wednesday, Democrats took a powerful stance...             News   \n",
      "6  President Trump s rally in FL on Saturday was ...  Government News   \n",
      "7  He s been Europe s version of the outspoken Te...        left-news   \n",
      "\n",
      "                date label  \n",
      "0  February 13, 2017  FAKE  \n",
      "3       May 22, 2017  FAKE  \n",
      "5      June 22, 2016  FAKE  \n",
      "6       Feb 19, 2017  FAKE  \n",
      "7        Mar 8, 2016  FAKE  \n",
      "\n",
      "--- REAL News Samples ---\n",
      "                                               title  \\\n",
      "1  Trump drops Steve Bannon from National Securit...   \n",
      "2  Puerto Rico expects U.S. to lift Jones Act shi...   \n",
      "4  Donald Trump heads for Scotland to reopen a go...   \n",
      "8  North Korea shows no sign it is serious about ...   \n",
      "9  Trump signals willingness to raise U.S. minimu...   \n",
      "\n",
      "                                                text       subject  \\\n",
      "1  WASHINGTON (Reuters) - U.S. President Donald T...  politicsNews   \n",
      "2  (Reuters) - Puerto Rico Governor Ricardo Rosse...  politicsNews   \n",
      "4  GLASGOW, Scotland (Reuters) - Most U.S. presid...  politicsNews   \n",
      "8  WASHINGTON (Reuters) - The State Department sa...     worldnews   \n",
      "9   (This version of the story corrects the figur...  politicsNews   \n",
      "\n",
      "                  date label  \n",
      "1       April 5, 2017   REAL  \n",
      "2  September 27, 2017   REAL  \n",
      "4       June 24, 2016   REAL  \n",
      "8   December 13, 2017   REAL  \n",
      "9         May 4, 2016   REAL  \n"
     ]
    }
   ],
   "source": [
    "import pandas as pd\n",
    "\n",
    "# Load both datasets\n",
    "fake_df = pd.read_csv('Fake.csv')\n",
    "true_df = pd.read_csv('True.csv')\n",
    "\n",
    "# Label them\n",
    "fake_df['label'] = 'FAKE'\n",
    "true_df['label'] = 'REAL'\n",
    "\n",
    "# Combine into one dataset\n",
    "df = pd.concat([fake_df, true_df], ignore_index=True)\n",
    "\n",
    "# Shuffle the combined dataset\n",
    "df = df.sample(frac=1, random_state=42).reset_index(drop=True)\n",
    "\n",
    "# Check that both labels exist\n",
    "print(df['label'].value_counts())\n",
    "\n",
    "# Print sample rows from each label\n",
    "print(\"\\n--- FAKE News Samples ---\")\n",
    "print(df[df['label'] == 'FAKE'].head())\n",
    "\n",
    "print(\"\\n--- REAL News Samples ---\")\n",
    "print(df[df['label'] == 'REAL'].head())\n"
   ]
  },
  {
   "cell_type": "code",
   "execution_count": 3,
   "id": "64845c53-34b0-4f27-a1e6-6a4d0ac41bdb",
   "metadata": {},
   "outputs": [
    {
     "data": {
      "text/html": [
       "<div>\n",
       "<style scoped>\n",
       "    .dataframe tbody tr th:only-of-type {\n",
       "        vertical-align: middle;\n",
       "    }\n",
       "\n",
       "    .dataframe tbody tr th {\n",
       "        vertical-align: top;\n",
       "    }\n",
       "\n",
       "    .dataframe thead th {\n",
       "        text-align: right;\n",
       "    }\n",
       "</style>\n",
       "<table border=\"1\" class=\"dataframe\">\n",
       "  <thead>\n",
       "    <tr style=\"text-align: right;\">\n",
       "      <th></th>\n",
       "      <th>title</th>\n",
       "      <th>text</th>\n",
       "      <th>subject</th>\n",
       "      <th>date</th>\n",
       "      <th>label</th>\n",
       "    </tr>\n",
       "  </thead>\n",
       "  <tbody>\n",
       "    <tr>\n",
       "      <th>0</th>\n",
       "      <td>Ben Stein Calls Out 9th Circuit Court: Committ...</td>\n",
       "      <td>21st Century Wire says Ben Stein, reputable pr...</td>\n",
       "      <td>US_News</td>\n",
       "      <td>February 13, 2017</td>\n",
       "      <td>FAKE</td>\n",
       "    </tr>\n",
       "    <tr>\n",
       "      <th>1</th>\n",
       "      <td>Trump drops Steve Bannon from National Securit...</td>\n",
       "      <td>WASHINGTON (Reuters) - U.S. President Donald T...</td>\n",
       "      <td>politicsNews</td>\n",
       "      <td>April 5, 2017</td>\n",
       "      <td>REAL</td>\n",
       "    </tr>\n",
       "    <tr>\n",
       "      <th>2</th>\n",
       "      <td>Puerto Rico expects U.S. to lift Jones Act shi...</td>\n",
       "      <td>(Reuters) - Puerto Rico Governor Ricardo Rosse...</td>\n",
       "      <td>politicsNews</td>\n",
       "      <td>September 27, 2017</td>\n",
       "      <td>REAL</td>\n",
       "    </tr>\n",
       "    <tr>\n",
       "      <th>3</th>\n",
       "      <td>OOPS: Trump Just Accidentally Confirmed He Le...</td>\n",
       "      <td>On Monday, Donald Trump once again embarrassed...</td>\n",
       "      <td>News</td>\n",
       "      <td>May 22, 2017</td>\n",
       "      <td>FAKE</td>\n",
       "    </tr>\n",
       "    <tr>\n",
       "      <th>4</th>\n",
       "      <td>Donald Trump heads for Scotland to reopen a go...</td>\n",
       "      <td>GLASGOW, Scotland (Reuters) - Most U.S. presid...</td>\n",
       "      <td>politicsNews</td>\n",
       "      <td>June 24, 2016</td>\n",
       "      <td>REAL</td>\n",
       "    </tr>\n",
       "  </tbody>\n",
       "</table>\n",
       "</div>"
      ],
      "text/plain": [
       "                                               title  \\\n",
       "0  Ben Stein Calls Out 9th Circuit Court: Committ...   \n",
       "1  Trump drops Steve Bannon from National Securit...   \n",
       "2  Puerto Rico expects U.S. to lift Jones Act shi...   \n",
       "3   OOPS: Trump Just Accidentally Confirmed He Le...   \n",
       "4  Donald Trump heads for Scotland to reopen a go...   \n",
       "\n",
       "                                                text       subject  \\\n",
       "0  21st Century Wire says Ben Stein, reputable pr...       US_News   \n",
       "1  WASHINGTON (Reuters) - U.S. President Donald T...  politicsNews   \n",
       "2  (Reuters) - Puerto Rico Governor Ricardo Rosse...  politicsNews   \n",
       "3  On Monday, Donald Trump once again embarrassed...          News   \n",
       "4  GLASGOW, Scotland (Reuters) - Most U.S. presid...  politicsNews   \n",
       "\n",
       "                  date label  \n",
       "0    February 13, 2017  FAKE  \n",
       "1       April 5, 2017   REAL  \n",
       "2  September 27, 2017   REAL  \n",
       "3         May 22, 2017  FAKE  \n",
       "4       June 24, 2016   REAL  "
      ]
     },
     "execution_count": 3,
     "metadata": {},
     "output_type": "execute_result"
    }
   ],
   "source": [
    "df.head(5)"
   ]
  },
  {
   "cell_type": "code",
   "execution_count": 4,
   "id": "388d1e30-d89a-4267-8277-1a5914ae75ec",
   "metadata": {},
   "outputs": [
    {
     "data": {
      "text/plain": [
       "(44898, 5)"
      ]
     },
     "execution_count": 4,
     "metadata": {},
     "output_type": "execute_result"
    }
   ],
   "source": [
    "df.shape"
   ]
  },
  {
   "cell_type": "code",
   "execution_count": 5,
   "id": "1fb062af-ca3f-48cc-b3bf-8d9ac4eb99ca",
   "metadata": {},
   "outputs": [
    {
     "data": {
      "text/plain": [
       "Index(['title', 'text', 'subject', 'date', 'label'], dtype='object')"
      ]
     },
     "execution_count": 5,
     "metadata": {},
     "output_type": "execute_result"
    }
   ],
   "source": [
    "df.columns"
   ]
  },
  {
   "cell_type": "code",
   "execution_count": 6,
   "id": "9d9684f8-c86c-4229-93e6-ca99b67680cd",
   "metadata": {},
   "outputs": [
    {
     "data": {
      "text/html": [
       "<div>\n",
       "<style scoped>\n",
       "    .dataframe tbody tr th:only-of-type {\n",
       "        vertical-align: middle;\n",
       "    }\n",
       "\n",
       "    .dataframe tbody tr th {\n",
       "        vertical-align: top;\n",
       "    }\n",
       "\n",
       "    .dataframe thead th {\n",
       "        text-align: right;\n",
       "    }\n",
       "</style>\n",
       "<table border=\"1\" class=\"dataframe\">\n",
       "  <thead>\n",
       "    <tr style=\"text-align: right;\">\n",
       "      <th></th>\n",
       "      <th>title</th>\n",
       "      <th>text</th>\n",
       "      <th>subject</th>\n",
       "      <th>date</th>\n",
       "      <th>label</th>\n",
       "    </tr>\n",
       "  </thead>\n",
       "  <tbody>\n",
       "    <tr>\n",
       "      <th>count</th>\n",
       "      <td>44898</td>\n",
       "      <td>44898</td>\n",
       "      <td>44898</td>\n",
       "      <td>44898</td>\n",
       "      <td>44898</td>\n",
       "    </tr>\n",
       "    <tr>\n",
       "      <th>unique</th>\n",
       "      <td>38729</td>\n",
       "      <td>38646</td>\n",
       "      <td>8</td>\n",
       "      <td>2397</td>\n",
       "      <td>2</td>\n",
       "    </tr>\n",
       "    <tr>\n",
       "      <th>top</th>\n",
       "      <td>Factbox: Trump fills top jobs for his administ...</td>\n",
       "      <td></td>\n",
       "      <td>politicsNews</td>\n",
       "      <td>December 20, 2017</td>\n",
       "      <td>FAKE</td>\n",
       "    </tr>\n",
       "    <tr>\n",
       "      <th>freq</th>\n",
       "      <td>14</td>\n",
       "      <td>627</td>\n",
       "      <td>11272</td>\n",
       "      <td>182</td>\n",
       "      <td>23481</td>\n",
       "    </tr>\n",
       "  </tbody>\n",
       "</table>\n",
       "</div>"
      ],
      "text/plain": [
       "                                                    title   text  \\\n",
       "count                                               44898  44898   \n",
       "unique                                              38729  38646   \n",
       "top     Factbox: Trump fills top jobs for his administ...          \n",
       "freq                                                   14    627   \n",
       "\n",
       "             subject                date  label  \n",
       "count          44898               44898  44898  \n",
       "unique             8                2397      2  \n",
       "top     politicsNews  December 20, 2017    FAKE  \n",
       "freq           11272                 182  23481  "
      ]
     },
     "execution_count": 6,
     "metadata": {},
     "output_type": "execute_result"
    }
   ],
   "source": [
    "df.describe()"
   ]
  },
  {
   "cell_type": "code",
   "execution_count": 7,
   "id": "bee232be-28ad-4f60-91de-dc280bf6ac39",
   "metadata": {},
   "outputs": [
    {
     "name": "stdout",
     "output_type": "stream",
     "text": [
      "<class 'pandas.core.frame.DataFrame'>\n",
      "RangeIndex: 44898 entries, 0 to 44897\n",
      "Data columns (total 5 columns):\n",
      " #   Column   Non-Null Count  Dtype \n",
      "---  ------   --------------  ----- \n",
      " 0   title    44898 non-null  object\n",
      " 1   text     44898 non-null  object\n",
      " 2   subject  44898 non-null  object\n",
      " 3   date     44898 non-null  object\n",
      " 4   label    44898 non-null  object\n",
      "dtypes: object(5)\n",
      "memory usage: 1.7+ MB\n"
     ]
    }
   ],
   "source": [
    "df.info()"
   ]
  },
  {
   "cell_type": "markdown",
   "id": "4394c428-b2a8-48f3-8e8d-4ca776e8ef53",
   "metadata": {},
   "source": [
    "# Data Preprocessing "
   ]
  },
  {
   "cell_type": "code",
   "execution_count": 8,
   "id": "ef5ce9c4-8bdc-4fa7-957e-66b1166b1288",
   "metadata": {},
   "outputs": [
    {
     "name": "stdout",
     "output_type": "stream",
     "text": [
      "                                                   title  \\\n",
      "4106   Islamic State claims responsibility for Aden c...   \n",
      "5547   Turkey seeks life sentences for 60 ex-military...   \n",
      "5909   Highlights: The Trump presidency on March 31 a...   \n",
      "6382   Britain preparing to transfer 400 million poun...   \n",
      "6779   Israel ambassador asks to meet New Zealand pop...   \n",
      "...                                                  ...   \n",
      "44673  Kuwait says GCC to keep operating despite Qata...   \n",
      "44721  Syrian rebels say discussing evacuation from t...   \n",
      "44786  Russia may widen designation for media outlets...   \n",
      "44849  Senate tax bill stalls on deficit-focused 'tri...   \n",
      "44860  British PM May vows to stay as party plotters ...   \n",
      "\n",
      "                                                    text       subject  \\\n",
      "4106   CAIRO (Reuters) - Militant group Islamic State...     worldnews   \n",
      "5547   ISTANBUL (Reuters) - Sixty people including a ...     worldnews   \n",
      "5909   (Reuters) - Highlights of the day for U.S. Pre...  politicsNews   \n",
      "6382   LONDON (Reuters) - Britain is preparing to tra...     worldnews   \n",
      "6779   WELLINGTON (Reuters) - Israel s ambassador to ...     worldnews   \n",
      "...                                                  ...           ...   \n",
      "44673  DUBAI (Reuters) - Kuwait s deputy foreign mini...     worldnews   \n",
      "44721  BEIRUT (Reuters) - Syrian rebels in a pocket o...     worldnews   \n",
      "44786  MOSCOW (Reuters) - Russia may decide to design...     worldnews   \n",
      "44849  WASHINGTON (Reuters) - The U.S. Senate on Thur...  politicsNews   \n",
      "44860  LONDON (Reuters) - British Prime Minister Ther...     worldnews   \n",
      "\n",
      "                     date label  \n",
      "4106   November 29, 2017   REAL  \n",
      "5547   December 21, 2017   REAL  \n",
      "5909      March 31, 2017   REAL  \n",
      "6382   November 16, 2017   REAL  \n",
      "6779   December 27, 2017   REAL  \n",
      "...                   ...   ...  \n",
      "44673  December 27, 2017   REAL  \n",
      "44721  December 27, 2017   REAL  \n",
      "44786  December 21, 2017   REAL  \n",
      "44849  November 30, 2017   REAL  \n",
      "44860    October 6, 2017   REAL  \n",
      "\n",
      "[209 rows x 5 columns]\n"
     ]
    }
   ],
   "source": [
    "duplicates_all = df[df.duplicated()]\n",
    "print(duplicates_all)"
   ]
  },
  {
   "cell_type": "code",
   "execution_count": 9,
   "id": "eba1a2d4-1d68-4460-9360-5e01f6cb1707",
   "metadata": {},
   "outputs": [
    {
     "data": {
      "text/plain": [
       "(44689, 5)"
      ]
     },
     "execution_count": 9,
     "metadata": {},
     "output_type": "execute_result"
    }
   ],
   "source": [
    "# drop duplicate data\n",
    "df.drop_duplicates(inplace=True)\n",
    "df.shape"
   ]
  },
  {
   "cell_type": "code",
   "execution_count": 10,
   "id": "b54e13de-a6c4-43b6-a9bd-32af54325b15",
   "metadata": {},
   "outputs": [],
   "source": [
    "# removes  Nan value .\n",
    "df.dropna(inplace =True)"
   ]
  },
  {
   "cell_type": "code",
   "execution_count": 11,
   "id": "6278e1b0-58bd-48e3-a311-59dafdcbec08",
   "metadata": {},
   "outputs": [
    {
     "name": "stdout",
     "output_type": "stream",
     "text": [
      "<class 'pandas.core.frame.DataFrame'>\n",
      "Index: 44689 entries, 0 to 44897\n",
      "Data columns (total 5 columns):\n",
      " #   Column   Non-Null Count  Dtype \n",
      "---  ------   --------------  ----- \n",
      " 0   title    44689 non-null  object\n",
      " 1   text     44689 non-null  object\n",
      " 2   subject  44689 non-null  object\n",
      " 3   date     44689 non-null  object\n",
      " 4   label    44689 non-null  object\n",
      "dtypes: object(5)\n",
      "memory usage: 2.0+ MB\n"
     ]
    }
   ],
   "source": [
    "# show info.\n",
    "df.info()"
   ]
  },
  {
   "cell_type": "code",
   "execution_count": 12,
   "id": "426176b7-5d4f-4c33-b32c-76845e6010d2",
   "metadata": {},
   "outputs": [
    {
     "data": {
      "text/plain": [
       "False"
      ]
     },
     "execution_count": 12,
     "metadata": {},
     "output_type": "execute_result"
    }
   ],
   "source": [
    "#  Nan Value in the dataframe\n",
    "df.isnull().any().any()"
   ]
  },
  {
   "cell_type": "code",
   "execution_count": 13,
   "id": "50fe79f4-3e1b-4aab-a5ad-e48cbe2443d9",
   "metadata": {},
   "outputs": [
    {
     "data": {
      "text/plain": [
       "0"
      ]
     },
     "execution_count": 13,
     "metadata": {},
     "output_type": "execute_result"
    }
   ],
   "source": [
    "#Count the nan value\n",
    "df.isnull().sum().sum()"
   ]
  },
  {
   "cell_type": "code",
   "execution_count": 14,
   "id": "d51043b3-5e87-460b-bff4-5cbcd9027c59",
   "metadata": {},
   "outputs": [
    {
     "data": {
      "text/plain": [
       "title      0\n",
       "text       0\n",
       "subject    0\n",
       "date       0\n",
       "label      0\n",
       "dtype: int64"
      ]
     },
     "execution_count": 14,
     "metadata": {},
     "output_type": "execute_result"
    }
   ],
   "source": [
    "#Count Nan Value per coloumn\n",
    "df.isnull().sum()"
   ]
  },
  {
   "cell_type": "code",
   "execution_count": 15,
   "id": "ac641ad8-2a09-45e3-8501-7630567c23b0",
   "metadata": {},
   "outputs": [
    {
     "name": "stdout",
     "output_type": "stream",
     "text": [
      "0\n"
     ]
    }
   ],
   "source": [
    "# nan value in this coloumn\n",
    "nan_count = df['title'].isnull().sum()\n",
    "print(nan_count)"
   ]
  },
  {
   "cell_type": "code",
   "execution_count": 16,
   "id": "1e6d0928-934a-4901-8811-ca56cb5fea31",
   "metadata": {},
   "outputs": [
    {
     "name": "stdout",
     "output_type": "stream",
     "text": [
      "                                                   title\n",
      "0      Ben Stein Calls Out 9th Circuit Court: Committ...\n",
      "1      Trump drops Steve Bannon from National Securit...\n",
      "2      Puerto Rico expects U.S. to lift Jones Act shi...\n",
      "3       OOPS: Trump Just Accidentally Confirmed He Le...\n",
      "4      Donald Trump heads for Scotland to reopen a go...\n",
      "...                                                  ...\n",
      "44893  UNREAL! CBS’S TED KOPPEL Tells Sean Hannity He...\n",
      "44894  PM May seeks to ease Japan's Brexit fears duri...\n",
      "44895  Merkel: Difficult German coalition talks can r...\n",
      "44896   Trump Stole An Idea From North Korean Propaga...\n",
      "44897  BREAKING: HILLARY CLINTON’S STATE DEPARTMENT G...\n",
      "\n",
      "[44689 rows x 1 columns]\n"
     ]
    }
   ],
   "source": [
    "title = df[['title']]\n",
    "print(title)"
   ]
  },
  {
   "cell_type": "code",
   "execution_count": 17,
   "id": "741e26ed-9be1-473a-bab6-1584e2620395",
   "metadata": {},
   "outputs": [
    {
     "name": "stdout",
     "output_type": "stream",
     "text": [
      "Missing values:\n",
      " title      0\n",
      "text       0\n",
      "subject    0\n",
      "date       0\n",
      "label      0\n",
      "dtype: int64\n"
     ]
    }
   ],
   "source": [
    "missing = df.isnull().sum()\n",
    "print(\"Missing values:\\n\", missing)"
   ]
  },
  {
   "cell_type": "code",
   "execution_count": 18,
   "id": "2c79398f-0814-4bed-b8fd-c837b9409b7e",
   "metadata": {},
   "outputs": [
    {
     "data": {
      "text/plain": [
       "array(['Ben Stein Calls Out 9th Circuit Court: Committed a ‘Coup d’état’ Against the Constitution',\n",
       "       'Trump drops Steve Bannon from National Security Council',\n",
       "       'Puerto Rico expects U.S. to lift Jones Act shipping restrictions',\n",
       "       ...,\n",
       "       \"PM May seeks to ease Japan's Brexit fears during trade visit\",\n",
       "       'Merkel: Difficult German coalition talks can reach a deal',\n",
       "       ' Trump Stole An Idea From North Korean Propaganda Parody Account To Push His Stupid Wall (DETAILS)'],\n",
       "      dtype=object)"
      ]
     },
     "execution_count": 18,
     "metadata": {},
     "output_type": "execute_result"
    }
   ],
   "source": [
    "df['title'].unique()"
   ]
  },
  {
   "cell_type": "code",
   "execution_count": 20,
   "id": "46de4207-013c-473e-8235-cee5666463d9",
   "metadata": {},
   "outputs": [],
   "source": [
    "import string"
   ]
  },
  {
   "cell_type": "code",
   "execution_count": 21,
   "id": "1695e0c1-e672-42da-819c-fad3645beb86",
   "metadata": {},
   "outputs": [
    {
     "data": {
      "text/plain": [
       "array(['21st Century Wire says Ben Stein, reputable professor from, Pepperdine University (also of some Hollywood fame appearing in TV shows and films such as Ferris Bueller s Day Off) made some provocative statements on Judge Jeanine Pirro s show recently. While discussing the halt that was imposed on President Trump s Executive Order on travel. Stein referred to the judgement by the 9th Circuit Court in Washington state as a  Coup d tat against the executive branch and against the constitution.  Stein went on to call the Judges in Seattle  political puppets  and the judiciary  political pawns. Watch the interview below for the complete statements and note the stark contrast to the rhetoric of the leftist media and pundits who neglect to note that no court has ever blocked any Presidential orders in immigration in the past or discuss the legal efficacy of the halt or the actual text of the Executive Order.READ MORE TRUMP NEWS AT: 21st Century Wire Trump FilesSUPPORT OUR WORK BY SUBSCRIBING & BECOMING A MEMBER @21WIRE.TV',\n",
       "       'WASHINGTON (Reuters) - U.S. President Donald Trump removed his chief strategist Steve Bannon from the National Security Council on Wednesday, reversing his controversial decision early this year to give a political adviser an unprecedented role in security discussions. Trump’s overhaul of the NSC, confirmed by a White House official, also elevated General Joseph Dunford, chairman of the Joint Chiefs of Staff and Dan Coats, the director of National Intelligence who heads all 17 U.S. intelligence agencies. The official said the change moves the NSC “back to its core function of what it’s supposed to do.” It also appears to mark a victory for national security adviser H.R. McMaster, who had told some national security experts he felt he was in a “battle to the death” with Bannon and others on the White House staff. Vice President Mike Pence said Bannon would continue to play an important role in policy and played down the shake-up as routine. “This is just a natural evolution to ensure the National Security Council is organized in a way that best serves the president in resolving and making those difficult decisions,” Pence said on Fox News.  Bannon said in a statement he had succeeded in returning the NSC back to its traditional role of coordinating foreign policy rather than running it. He cited President Barack Obama’s national security adviser, Susan Rice, for why he advocated a change. “Susan Rice operationalized the NSC during the last administration so I was put on NSC to ensure it was ‘de-operationalized.’ General McMaster has NSC back to its proper function,” he said. Trump’s White House team has grappled with infighting and intrigue that has hobbled his young presidency. In recent days, several other senior U.S. foreign policy and national security officials have said the mechanisms for shaping the Trump administration’s response to pressing challenges such as Syria, North Korea and Iran still were not in place.  Critics of Bannon’s role on the NSC said it gave too much weight in decision-making to someone who lacked foreign policy expertise. Bannon, who was chief executive of Trump’s presidential campaign in the months leading to his election in November, in some respects represents Trump’s “America First” nationalistic voice, helping fuel his anti-Washington fervor and pushing for the president to part ways at times with mainstream Republicans. Before joining the Trump administration, Bannon headed Breitbart News, a right-wing website. U.S. Representative Adam Schiff, ranking Democrat on the House of Representatives Intelligence Committee, called the shift in the NSC a positive step that will help McMaster “gain control over a body that was being politicized by Bannon’s involvement.” “As the administration’s policy over North Korea, China, Russia and Syria continues to drift, we can only hope this shake-up brings some level of strategic vision to the body,” he said. Bannon’s removal from the NSC was a potential setback for his sphere of influence in the Trump White House, where he has a voice in most major decisions. But a Trump confidant said Bannon remained as influential as ever. “He is still involved in everything and still has the full confidence of the president but to be fair he can only do so much stuff,” the confidant said, speaking on condition of anonymity. The White House official said Bannon was no longer needed on the NSC after the departure of Trump’s first national security adviser, Michael Flynn. Flynn was forced to resign on Feb. 13 over his contacts with Russia’s ambassador to the United States, Sergei Kislyak, prior to Trump taking office on Jan. 20. The official said Bannon had been placed on the NSC originally as a check on Flynn and had only attended one of the NSC’s regular meetings. The official dismissed questions about a power struggle between Bannon and McMaster, saying they shared the same world view. However, two current national security officials rejected the White House explanation, noting that two months have passed since Flynn’s departure. McMaster, they said, speaking on the condition of anonymity, also has dueled with Bannon and others over direct access to Trump; the future of deputy national security adviser K.T. McFarland, a former Fox News commentator; intelligence director Ezra Cohen-Watnick, a Flynn appointee; and other staffing decisions. Trump is preparing for his first face-to-face meeting on Thursday and Friday with Chinese President Xi Jinping with the threat of North Korea’s nuclear and missile programs a key component of their talks. Bannon’s seat on the NSC’s “principals’ committee,” a group that includes the secretaries of state, defense and other ranking aides, was taken by Rick Perry, who as energy secretary is charged with overseeing the U.S. nuclear weapons arsenal. ',\n",
       "       '(Reuters) - Puerto Rico Governor Ricardo Rossello said on Wednesday he expected the federal government to waive the Jones Act, which would lift restrictions on ships that can provide aid to the island devastated by Hurricane Maria. He said he has been speaking with members of Congress from both parties who have supported an emergency waiver.  \\xa0\\xa0\\xa0\\xa0“We expect them to waive it,” Rossello said in an interview with CNN. He noted there was a seven-day waiver after Hurricane Irma, which was much less devastating to the island. \\xa0\\xa0\\xa0 On Tuesday, the Trump administration said there was no need to waive shipping restrictions to help get fuel and supplies to storm-ravaged Puerto Rico, saying it would do nothing to address the island’s damaged ports, the main impediment to shipping. A waiver would allow Puerto Rico to get help not only from U.S. ships but from any ships that can bring aid. \\xa0\\xa0\\xa0 “That is critical, particularly for fuel,” he said. “One of the considerations right now is the priority of getting fuel, diesel, gasoline, all across the island. Right now we have enough fuel. We’re limited by the transportation logistics, but at some point of course, getting fuel into the island is going to be critical so that we can have the major functions of telecoms, hospitals, water, to be running appropriately.” \\xa0\\xa0\\xa0 The Jones Act requires that all goods shipped between U.S. ports be carried by American owned-and-operated ships. U.S. Senator John McCain asked acting Department of Homeland Security Secretary Elaine Duke on Tuesday to grant an emergency waiver of the law. He said that Puerto Rican residents would have to pay at least twice as much for food, drinking water and other supplies without the waiver. (This corrected version of the story fixes paragraph four to show the administration has not formally denied a waiver request). ',\n",
       "       ...,\n",
       "       'LONDON/TOKYO (Reuters) - British Prime Minister Theresa May will look to ease corporate Japan s worries about Brexit during a three-day visit to the country from Wednesday focused on progress on a bilateral trade deal for when Britain leaves the European Union. May s first trip to Japan as prime minister comes at a difficult moment, with Japanese attention focused on North Korea s Tuesday missile test and Britain s Brexit negotiators recently on the receiving end of sharp criticism from EU officials. May will lead a 15-strong business delegation, including Standard Life Investment (SLA.L) chief executive Keith Skeoch, and carmaker Aston Martin s CEO Andy Palmer, pitching Britain and Japan as the  perfect partners for the future . She will meet Japanese Prime Minister Shinzo Abe in Kyoto before traveling to Tokyo for an investment conference and banquet. May and Abe are due to speak publicly on Thursday following one-to-one talks.   My discussions with Prime Minister Abe will focus on how we can prepare the ground for an ambitious free trade agreement after Brexit, based on the EU-Japan agreement which I very much hope is nearing conclusion,  May said in a statement ahead of her departure. May will also discuss defense cooperation, describing Japan as  our closest security partner in Asia . She will become the first European leader to attend a meeting of Japan s National Security Council and will also visit its flagship helicopter carrier  Izumo  for a briefing with military officials. North Korea fired a ballistic missile over Japan s northern Hokkaido island into the sea early on Tuesday, prompting warnings to residents to take cover and drawing a sharp reaction from Abe. May also strongly condemned the launch. Japan s foreign ministry said the two leaders are expected to agree on the importance of China s role in ramping up pressure on North Korea. Japan has been unusually outspoken about its concerns that Britain s departure from the EU, which was decided by a public vote in 2016, could affect current and future Japanese investments in Britain. Britain is the second most important destination for Japanese investment after the United States, with firms like Nissan (7201.T), Toyota (7203.T) and Hitachi (6501.T) investing billions in carmaking, energy and transport.  During a visit to London by Abe in April, Britain said that Japanese companies had already invested over 40 billion pounds  ($52 billion) in the British economy. But Japan is also an important destination for British investment. Aston Martin said on Tuesday it will open an advanced product planning office next year in Japan to better understand the needs of Asian buyers and tap into new technologies.  The firm is hoping to boost demand from Japan and the United States partly as a way to mitigate against any risks from Brexit which could add costs and delays to the 15 percent of cars it currently sells into the European Union. Speaking ahead of May s visit, Japanese Deputy Chief Cabinet Secretary Yasutoshi Nishimura said Tokyo had to react to  a sense of crisis among businesses  over Brexit, and gather information about the British negotiating strategy. Britain has published a series of papers setting out how it wants to settle its divorce with the EU, and is pushing for talks to move on to discuss the future relationship between the two - something of critical importance to investors. But European Commission President Jean-Claude Juncker insisted on Tuesday that the new relationship could not be discussed until initial differences had been resolved, and the EU s chief negotiator Michel Barnier said on Monday he was concerned at the slow progress made so far. Japan s foreign ministry said Abe is expected to ask May to maintain transparency and predictability regarding Brexit so that any impact on corporate activity will be minimized - echoing concerns Abe expressed in April about a Brexit cliff-edge. May s spokeswoman said the prime minister would reiterate Britain s position that it is seeking to agree a time-limited Brexit transition period after March 2019 to avoid a sudden change in trading and regulatory conditions for businesses.   What they will discuss in private I can t pre-empt, but that is our position and she ll be setting that out if he (Abe) asks,  the spokeswoman said.  ($1 = 0.7724 pounds) ',\n",
       "       'BERLIN (Reuters) - Chancellor Angela Merkel said German parties face a difficult task to bridge their differences in crunch coalition talks on Thursday, but she believes they can reach an agreement to work together in a new government.   We have very, very different positions,  she told reporters.  If it works - I think it can work - there can be a positive result at the end of today s negotiations. But this is a difficult task.  ',\n",
       "       \"Jesus f*cking Christ our President* is a moron. Not satisfied with simply wasting billions of taxpayer dollars on a border wall, The Donald wants it to be see-through too   not to preserve the view of scenery but because he s afraid people might be killed by gigantic sacks of drugs that are totally going to be thrown over it on a regular basis (thus negating his argument that the wall will somehow curb drug trafficking). As horrible as it sounds, when they throw the large sacks of drugs over, and if you have people on the other side of the wall, you don t see them they hit you on the head with 60 pounds of the stuff? It s over,  the President said aboard Air Force One Wednesday according to the official White House transcript.  As cray as that sounds, you need transparency through that wall. Trump says border wall with Mexico should be transparent so that people aren't killed when drug couriers throw 60-lbs. bags over it. pic.twitter.com/0GXJuHjPxs  Gregory Korte (@gregorykorte) July 13, 2017It s unclear if Trump actually said  cray  or if the White House stenographer made a typo, but the idea that we will be so beleaguered by so many flying 60-pound sacks of drugs that the border wall needs to be  transparent  is pretty  cray. Now, Trump could have argued that there are a number of reasons for  transparency    to see those dirty brownish people he hates coming, for instance. But he chose the dumb one that involves throwing a 60-pound bag of heroin over a 20-foot fence.Naturally, Americans find this hilarious:The bad hombres are very strong.  Juha (@juhasaarinen) July 14, 2017I imagined just this with  Acme  printed on the side.  TJ Shannon (@tjshannon13) July 14, 2017pic.twitter.com/43I0DR0lw8  Paul Vahamaa (@pvahamaa) July 14, 2017 a steel wall with openings  so that you can  see through that wall he knows he s describing a fence, right?  Tinz (@TinzRules) July 13, 2017Likelihood that Trump heard someone say  We need transparency on the building of the Wall  and didn t understand?  Patrick (@PatrickCragg) July 13, 2017Crushed by Giant Bag of Dope is pretty high on most people s Preferred Ways To Die list, I ve heard.  Just Dessert (@Love_CrimeDrama) July 13, 2017Crushed by Giant Bag of Dope was, in my opinion, Giant Bag of Dope s best album.  David J Britton (@Tyburn_Cross) July 13, 2017I want to meet the dealer that can toss a 60 lb bag over the wall or, do they use catapults?  nicefellow31 (@nicefellow31) July 13, 2017They prefer trebuchets, I m told.  Carly (@whatstudentloan) July 13, 2017The beauty of this, though, is if the bag misses your head  Hey! Free heroin!  Christopher Keelty (@keeltyc) July 13, 2017 Some areas that are so far away from the border? Some parts of the border are far away from the border? #wtf #cray  Matthew R. Kerns (@mattkerns) July 13, 2017So, these drug smugglers, they can toss 60 pound bags of coke over 20 foot walls, but can t climb a mountain?  High Quality Nephew (@JohnNephew) July 13, 2017 This piece of fence would be supes far away. You d have to be totes cray to cross there. So you fo sho don t need that.    def on fleek  Henkepotamus (@Henke2020) July 13, 2017You laugh but this is a serious problem. pic.twitter.com/1jGkVDGmt6  Erase Rewind (@EraseRewind1) July 13, 2017If there are people throwing 60 lbs sacks of stuff over high walls we should get them on our team.  Rich (@Argonzo) July 13, 2017So: you happen to stand next to a giant 900 mi. wall when BAM! You re hit with a 60 lb. bag of drugs tossed over this huge wall to no one??  Spooky Comet (@spookycomet) July 13, 2017one thing is right, this shit is cray  Ella s Girl (@ellasgirl7) July 13, 2017This can t possibly be real because . . . never mind. I m sorry, I forgot who we were referring to.   Kit Yona (@TheKitastrophe) July 13, 2017Wow. Vicious rivers and  cray  60-lb falling bags of heroin. Why would people stand next to the wall? Will there be a Starbucks?  Tom Brouns (@TAZMPictures) July 14, 2017Ask him to point out the  violent and vicious  rivers on a map. WTF is he talking about?  John Daws (@grajillas) July 13, 2017Who the F*ck is throwing 60lb sacks of drugs over the wall? Cause pretty sure they make some $$$ in pro sports!  R Goldman (@sttrzangel) July 14, 2017Where would Trump get the idea to tell Americans that criminals across the border are killing people with giant sacks of drugs? North Korean propaganda of course   or what seems like North Korean propaganda until you realize it s a parody account:Six innocent children killed by south Korean criminals hurling huge sacks of illegal drugs over inter-Korean demilitarized zone wall. pic.twitter.com/bfnNlBIs4e  DPRK News Service (@DPRK_News) July 13, 2017If you re thinking this is disgraceful even for Trump, you probably should be aware that we have not yet seen the depths to which he is willing to sink in his quest for power.We need to face the fact that our  President  is completely  cray  and let the GOP know they need to do their jobs and remove him from office now.featured image via Getty Images/screengrab\"],\n",
       "      dtype=object)"
      ]
     },
     "execution_count": 21,
     "metadata": {},
     "output_type": "execute_result"
    }
   ],
   "source": [
    "df['text'].unique()"
   ]
  },
  {
   "cell_type": "code",
   "execution_count": 22,
   "id": "5fbbcc1b-e99b-4e2f-a609-9dd0cdf8b0cc",
   "metadata": {},
   "outputs": [],
   "source": [
    "import re\n",
    "\n",
    "def clean_text(text):\n",
    "    text = text.lower()                            # Lowercase\n",
    "    text = re.sub(r'[^a-zA-Z0-9\\s]', '', text)     # Remove punctuation\n",
    "    text = re.sub(r'\\s+', ' ', text).strip()       # Remove extra spaces\n",
    "    return text\n",
    "\n",
    "# Apply to title and text\n",
    "df['title'] = df['title'].apply(clean_text)\n",
    "df['text'] = df['text'].apply(clean_text)\n"
   ]
  },
  {
   "cell_type": "code",
   "execution_count": 23,
   "id": "e24db977-bb7a-4ff6-a72e-1e7ceef86b3b",
   "metadata": {},
   "outputs": [],
   "source": [
    "df['text_length'] = df['text'].apply(len)"
   ]
  },
  {
   "cell_type": "code",
   "execution_count": 24,
   "id": "c38ad230-cbf3-44fb-8d86-55e5a1a10a3a",
   "metadata": {},
   "outputs": [],
   "source": [
    "df['word_count'] = df['text'].apply(lambda x: len(x.split()))"
   ]
  },
  {
   "cell_type": "code",
   "execution_count": 25,
   "id": "620f3059-68c9-43ef-88e4-ccffe86b9854",
   "metadata": {},
   "outputs": [
    {
     "data": {
      "text/plain": [
       "array(['February 13, 2017', 'April 5, 2017 ', 'September 27, 2017 ', ...,\n",
       "       'August 21, 2016 ', 'December 31, 2017 ', 'May 22, 2016 '],\n",
       "      dtype=object)"
      ]
     },
     "execution_count": 25,
     "metadata": {},
     "output_type": "execute_result"
    }
   ],
   "source": [
    "df['date'].unique()"
   ]
  },
  {
   "cell_type": "code",
   "execution_count": 26,
   "id": "a67f1cd7-6bfe-4434-90b1-af0673b0ec0d",
   "metadata": {},
   "outputs": [],
   "source": [
    "# Convert 'date' column to datetime\n",
    "df['date'] = pd.to_datetime(df['date'], errors='coerce')  # invalid dates become NaT\n",
    "\n",
    "# If there are invalid date formats that turned to NaT, you can drop or fill them\n",
    "df = df.dropna(subset=['date'])\n"
   ]
  },
  {
   "cell_type": "code",
   "execution_count": 27,
   "id": "8a65e3c7-e300-4c2d-8b6d-fcc0b415ce60",
   "metadata": {},
   "outputs": [
    {
     "data": {
      "text/plain": [
       "<DatetimeArray>\n",
       "['2017-02-13 00:00:00', '2017-05-22 00:00:00', '2016-06-22 00:00:00',\n",
       " '2016-05-04 00:00:00', '2017-05-07 00:00:00', '2017-06-08 00:00:00',\n",
       " '2016-03-01 00:00:00', '2017-05-10 00:00:00', '2016-09-18 00:00:00',\n",
       " '2016-10-06 00:00:00',\n",
       " ...\n",
       " '2017-11-12 00:00:00', '2017-11-25 00:00:00', '2017-11-20 00:00:00',\n",
       " '2015-05-02 00:00:00', '2017-12-16 00:00:00', '2017-12-11 00:00:00',\n",
       " '2017-10-24 00:00:00', '2017-12-09 00:00:00', '2017-12-19 00:00:00',\n",
       " '2017-10-09 00:00:00']\n",
       "Length: 757, dtype: datetime64[ns]"
      ]
     },
     "execution_count": 27,
     "metadata": {},
     "output_type": "execute_result"
    }
   ],
   "source": [
    "df['date'].unique()"
   ]
  },
  {
   "cell_type": "code",
   "execution_count": 28,
   "id": "bdd2cb79-8b6a-4c30-b65e-14ec8230642f",
   "metadata": {},
   "outputs": [
    {
     "name": "stdout",
     "output_type": "stream",
     "text": [
      "<class 'pandas.core.frame.DataFrame'>\n",
      "Index: 11868 entries, 0 to 44896\n",
      "Data columns (total 7 columns):\n",
      " #   Column       Non-Null Count  Dtype         \n",
      "---  ------       --------------  -----         \n",
      " 0   title        11868 non-null  object        \n",
      " 1   text         11868 non-null  object        \n",
      " 2   subject      11868 non-null  object        \n",
      " 3   date         11868 non-null  datetime64[ns]\n",
      " 4   label        11868 non-null  object        \n",
      " 5   text_length  11868 non-null  int64         \n",
      " 6   word_count   11868 non-null  int64         \n",
      "dtypes: datetime64[ns](1), int64(2), object(4)\n",
      "memory usage: 741.8+ KB\n",
      "None\n",
      "title          0\n",
      "text           0\n",
      "subject        0\n",
      "date           0\n",
      "label          0\n",
      "text_length    0\n",
      "word_count     0\n",
      "dtype: int64\n"
     ]
    }
   ],
   "source": [
    "print(df.info())\n",
    "print(df.isnull().sum())\n"
   ]
  },
  {
   "cell_type": "code",
   "execution_count": 35,
   "id": "1887fc48-5ce6-4fb4-9b9e-da1e1fb5ab68",
   "metadata": {},
   "outputs": [
    {
     "name": "stdout",
     "output_type": "stream",
     "text": [
      "0        FAKE\n",
      "3        FAKE\n",
      "5        FAKE\n",
      "16       FAKE\n",
      "17       FAKE\n",
      "         ... \n",
      "44884    FAKE\n",
      "44885    FAKE\n",
      "44889    FAKE\n",
      "44892    FAKE\n",
      "44896    FAKE\n",
      "Name: label, Length: 11868, dtype: object\n"
     ]
    }
   ],
   "source": [
    "print(df['label'])"
   ]
  },
  {
   "cell_type": "code",
   "execution_count": 36,
   "id": "0bb84f3a-6609-4b80-a372-87302483f09b",
   "metadata": {},
   "outputs": [],
   "source": [
    "# Convert 'FAKE' to 0 and 'REAL' to 1\n",
    "df['label'] = df['label'].map({'FAKE': 0, 'REAL': 1})\n"
   ]
  },
  {
   "cell_type": "code",
   "execution_count": 37,
   "id": "d3a2711a-b902-4869-88fd-e9e995005b7f",
   "metadata": {},
   "outputs": [
    {
     "data": {
      "text/html": [
       "<div>\n",
       "<style scoped>\n",
       "    .dataframe tbody tr th:only-of-type {\n",
       "        vertical-align: middle;\n",
       "    }\n",
       "\n",
       "    .dataframe tbody tr th {\n",
       "        vertical-align: top;\n",
       "    }\n",
       "\n",
       "    .dataframe thead th {\n",
       "        text-align: right;\n",
       "    }\n",
       "</style>\n",
       "<table border=\"1\" class=\"dataframe\">\n",
       "  <thead>\n",
       "    <tr style=\"text-align: right;\">\n",
       "      <th></th>\n",
       "      <th>title</th>\n",
       "      <th>text</th>\n",
       "      <th>subject</th>\n",
       "      <th>date</th>\n",
       "      <th>label</th>\n",
       "      <th>text_length</th>\n",
       "      <th>word_count</th>\n",
       "    </tr>\n",
       "  </thead>\n",
       "  <tbody>\n",
       "    <tr>\n",
       "      <th>0</th>\n",
       "      <td>ben stein calls out 9th circuit court committe...</td>\n",
       "      <td>21st century wire says ben stein reputable pro...</td>\n",
       "      <td>US_News</td>\n",
       "      <td>2017-02-13</td>\n",
       "      <td>0</td>\n",
       "      <td>1009</td>\n",
       "      <td>170</td>\n",
       "    </tr>\n",
       "    <tr>\n",
       "      <th>3</th>\n",
       "      <td>oops trump just accidentally confirmed he leak...</td>\n",
       "      <td>on monday donald trump once again embarrassed ...</td>\n",
       "      <td>News</td>\n",
       "      <td>2017-05-22</td>\n",
       "      <td>0</td>\n",
       "      <td>1194</td>\n",
       "      <td>182</td>\n",
       "    </tr>\n",
       "    <tr>\n",
       "      <th>5</th>\n",
       "      <td>paul ryan responds to dems sitin on gun contro...</td>\n",
       "      <td>on wednesday democrats took a powerful stance ...</td>\n",
       "      <td>News</td>\n",
       "      <td>2016-06-22</td>\n",
       "      <td>0</td>\n",
       "      <td>2080</td>\n",
       "      <td>352</td>\n",
       "    </tr>\n",
       "    <tr>\n",
       "      <th>16</th>\n",
       "      <td>judge declares baby name illegal to prevent he...</td>\n",
       "      <td>does a judge have the right to determine what ...</td>\n",
       "      <td>left-news</td>\n",
       "      <td>2016-05-04</td>\n",
       "      <td>0</td>\n",
       "      <td>1533</td>\n",
       "      <td>277</td>\n",
       "    </tr>\n",
       "    <tr>\n",
       "      <th>17</th>\n",
       "      <td>paul ryan takes a monumentally humiliating pho...</td>\n",
       "      <td>politicians are all about photoops this is esp...</td>\n",
       "      <td>News</td>\n",
       "      <td>2017-05-07</td>\n",
       "      <td>0</td>\n",
       "      <td>1832</td>\n",
       "      <td>319</td>\n",
       "    </tr>\n",
       "  </tbody>\n",
       "</table>\n",
       "</div>"
      ],
      "text/plain": [
       "                                                title  \\\n",
       "0   ben stein calls out 9th circuit court committe...   \n",
       "3   oops trump just accidentally confirmed he leak...   \n",
       "5   paul ryan responds to dems sitin on gun contro...   \n",
       "16  judge declares baby name illegal to prevent he...   \n",
       "17  paul ryan takes a monumentally humiliating pho...   \n",
       "\n",
       "                                                 text    subject       date  \\\n",
       "0   21st century wire says ben stein reputable pro...    US_News 2017-02-13   \n",
       "3   on monday donald trump once again embarrassed ...       News 2017-05-22   \n",
       "5   on wednesday democrats took a powerful stance ...       News 2016-06-22   \n",
       "16  does a judge have the right to determine what ...  left-news 2016-05-04   \n",
       "17  politicians are all about photoops this is esp...       News 2017-05-07   \n",
       "\n",
       "    label  text_length  word_count  \n",
       "0       0         1009         170  \n",
       "3       0         1194         182  \n",
       "5       0         2080         352  \n",
       "16      0         1533         277  \n",
       "17      0         1832         319  "
      ]
     },
     "execution_count": 37,
     "metadata": {},
     "output_type": "execute_result"
    }
   ],
   "source": [
    "df.head(5)"
   ]
  },
  {
   "cell_type": "code",
   "execution_count": null,
   "id": "96fd5e96-c776-4c32-98d2-f902108deb5d",
   "metadata": {},
   "outputs": [],
   "source": []
  }
 ],
 "metadata": {
  "kernelspec": {
   "display_name": "Python 3 (ipykernel)",
   "language": "python",
   "name": "python3"
  },
  "language_info": {
   "codemirror_mode": {
    "name": "ipython",
    "version": 3
   },
   "file_extension": ".py",
   "mimetype": "text/x-python",
   "name": "python",
   "nbconvert_exporter": "python",
   "pygments_lexer": "ipython3",
   "version": "3.12.7"
  }
 },
 "nbformat": 4,
 "nbformat_minor": 5
}
