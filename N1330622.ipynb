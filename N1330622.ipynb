{
 "cells": [
  {
   "cell_type": "markdown",
   "id": "e019f0a5-ea93-4098-8100-07133958e8df",
   "metadata": {},
   "source": [
    "Project Proposal: Crop Recommendation Using AI Techniques\n",
    "1. Problem Statement\n",
    "In the agriculture sector, selecting the right crop to cultivate based on environmental and soil conditions is crucial for maximizing yield and sustainability. Farmers often rely on experience or guesswork, which may lead to suboptimal outcomes. This project aims to develop a machine learning model to recommend the most suitable crop to grow, based on soil nutrients and climatic parameters.\n",
    "\n",
    "2. Dataset Description\n",
    "\n",
    "Dataset Name: Crop Recommendation Dataset\n",
    "\n",
    "Source: [Kaggle or similar public repository – insert actual source URL or name if known]\n",
    "\n",
    "Samples: 2200 rows\n",
    "\n",
    "Features: 7 input features and 1 label\n",
    "\n",
    "Input Features:\n",
    "\n",
    "N: Nitrogen content in the soil\n",
    "\n",
    "P: Phosphorous content\n",
    "\n",
    "K: Potassium content\n",
    "\n",
    "temperature: Average temperature in °C\n",
    "\n",
    "humidity: Average relative humidity in %\n",
    "\n",
    "ph: Soil pH value\n",
    "\n",
    "rainfall: Average rainfall in mm\n",
    "\n",
    "Target Variable (Label): label (recommended crop)\n",
    "\n",
    "Label Classes: 22 different crop types (e.g., rice, maize, chickpea, etc.)\n",
    "\n",
    "Data Quality: No missing values; dataset is clean and well-structured\n",
    "\n",
    "Class Balance: All 22 classes are present with sufficient samples.\n",
    "\n",
    "3. AI Techniques to Be Used\n",
    "The following AI/ML techniques will be applied and compared for performance:\n",
    "\n",
    "Artificial Neural Networks (ANNs): To capture complex patterns between environmental factors and crop types.\n",
    "\n",
    "Deep Convolutional Neural Networks (CNNs): Adapted to tabular data for comparison, possibly by converting data into image-like formats or using 1D CNNs.\n",
    "\n",
    "Support Vector Machines (SVMs): To perform classification with a focus on maximizing the margin between crop class boundaries.\n",
    "\n",
    "Clustering Approaches (e.g., K-Means): To explore unsupervised grouping of environmental conditions and analyze natural crop clusters.\n",
    "\n"
   ]
  },
  {
   "cell_type": "code",
   "execution_count": 1,
   "id": "a909fedf-e5c3-4962-acb5-1ac079914658",
   "metadata": {},
   "outputs": [],
   "source": [
    "import pandas as pd\n",
    "import matplotlib.pyplot as plt\n",
    "import seaborn as sns"
   ]
  },
  {
   "cell_type": "code",
   "execution_count": 2,
   "id": "246ad9a1-9a85-4854-9123-ba7e8b1c0828",
   "metadata": {},
   "outputs": [],
   "source": [
    "df=pd.read_csv('Crop_recommendation.csv')"
   ]
  },
  {
   "cell_type": "code",
   "execution_count": 3,
   "id": "8cf93c7f-cf60-434a-8624-28c77cb55ddc",
   "metadata": {},
   "outputs": [
    {
     "data": {
      "text/html": [
       "<div>\n",
       "<style scoped>\n",
       "    .dataframe tbody tr th:only-of-type {\n",
       "        vertical-align: middle;\n",
       "    }\n",
       "\n",
       "    .dataframe tbody tr th {\n",
       "        vertical-align: top;\n",
       "    }\n",
       "\n",
       "    .dataframe thead th {\n",
       "        text-align: right;\n",
       "    }\n",
       "</style>\n",
       "<table border=\"1\" class=\"dataframe\">\n",
       "  <thead>\n",
       "    <tr style=\"text-align: right;\">\n",
       "      <th></th>\n",
       "      <th>N</th>\n",
       "      <th>P</th>\n",
       "      <th>K</th>\n",
       "      <th>temperature</th>\n",
       "      <th>humidity</th>\n",
       "      <th>ph</th>\n",
       "      <th>rainfall</th>\n",
       "      <th>label</th>\n",
       "    </tr>\n",
       "  </thead>\n",
       "  <tbody>\n",
       "    <tr>\n",
       "      <th>0</th>\n",
       "      <td>90</td>\n",
       "      <td>42</td>\n",
       "      <td>43</td>\n",
       "      <td>20.879744</td>\n",
       "      <td>82.002744</td>\n",
       "      <td>6.502985</td>\n",
       "      <td>202.935536</td>\n",
       "      <td>rice</td>\n",
       "    </tr>\n",
       "    <tr>\n",
       "      <th>1</th>\n",
       "      <td>85</td>\n",
       "      <td>58</td>\n",
       "      <td>41</td>\n",
       "      <td>21.770462</td>\n",
       "      <td>80.319644</td>\n",
       "      <td>7.038096</td>\n",
       "      <td>226.655537</td>\n",
       "      <td>rice</td>\n",
       "    </tr>\n",
       "    <tr>\n",
       "      <th>2</th>\n",
       "      <td>60</td>\n",
       "      <td>55</td>\n",
       "      <td>44</td>\n",
       "      <td>23.004459</td>\n",
       "      <td>82.320763</td>\n",
       "      <td>7.840207</td>\n",
       "      <td>263.964248</td>\n",
       "      <td>rice</td>\n",
       "    </tr>\n",
       "    <tr>\n",
       "      <th>3</th>\n",
       "      <td>74</td>\n",
       "      <td>35</td>\n",
       "      <td>40</td>\n",
       "      <td>26.491096</td>\n",
       "      <td>80.158363</td>\n",
       "      <td>6.980401</td>\n",
       "      <td>242.864034</td>\n",
       "      <td>rice</td>\n",
       "    </tr>\n",
       "    <tr>\n",
       "      <th>4</th>\n",
       "      <td>78</td>\n",
       "      <td>42</td>\n",
       "      <td>42</td>\n",
       "      <td>20.130175</td>\n",
       "      <td>81.604873</td>\n",
       "      <td>7.628473</td>\n",
       "      <td>262.717340</td>\n",
       "      <td>rice</td>\n",
       "    </tr>\n",
       "  </tbody>\n",
       "</table>\n",
       "</div>"
      ],
      "text/plain": [
       "    N   P   K  temperature   humidity        ph    rainfall label\n",
       "0  90  42  43    20.879744  82.002744  6.502985  202.935536  rice\n",
       "1  85  58  41    21.770462  80.319644  7.038096  226.655537  rice\n",
       "2  60  55  44    23.004459  82.320763  7.840207  263.964248  rice\n",
       "3  74  35  40    26.491096  80.158363  6.980401  242.864034  rice\n",
       "4  78  42  42    20.130175  81.604873  7.628473  262.717340  rice"
      ]
     },
     "execution_count": 3,
     "metadata": {},
     "output_type": "execute_result"
    }
   ],
   "source": [
    "df.head(5)"
   ]
  },
  {
   "cell_type": "code",
   "execution_count": 4,
   "id": "3eae2f38-7a6f-41d1-b29d-ac2e1f77056e",
   "metadata": {},
   "outputs": [
    {
     "name": "stdout",
     "output_type": "stream",
     "text": [
      "['rice' 'maize' 'chickpea' 'kidneybeans' 'pigeonpeas' 'mothbeans'\n",
      " 'mungbean' 'blackgram' 'lentil' 'pomegranate' 'banana' 'mango' 'grapes'\n",
      " 'watermelon' 'muskmelon' 'apple' 'orange' 'papaya' 'coconut' 'cotton'\n",
      " 'jute' 'coffee']\n",
      "label\n",
      "rice           100\n",
      "maize          100\n",
      "jute           100\n",
      "cotton         100\n",
      "coconut        100\n",
      "papaya         100\n",
      "orange         100\n",
      "apple          100\n",
      "muskmelon      100\n",
      "watermelon     100\n",
      "grapes         100\n",
      "mango          100\n",
      "banana         100\n",
      "pomegranate    100\n",
      "lentil         100\n",
      "blackgram      100\n",
      "mungbean       100\n",
      "mothbeans      100\n",
      "pigeonpeas     100\n",
      "kidneybeans    100\n",
      "chickpea       100\n",
      "coffee         100\n",
      "Name: count, dtype: int64\n"
     ]
    }
   ],
   "source": [
    "print(df['label'].unique())\n",
    "print(df['label'].value_counts())"
   ]
  },
  {
   "cell_type": "code",
   "execution_count": 5,
   "id": "3a0b657c-ae47-4065-88b1-be8621e036bf",
   "metadata": {
    "scrolled": true
   },
   "outputs": [
    {
     "name": "stdout",
     "output_type": "stream",
     "text": [
      "Unique classes in original df: 22\n"
     ]
    }
   ],
   "source": [
    "print(\"Unique classes in original df:\", df['label'].nunique())  # Should print 22"
   ]
  },
  {
   "cell_type": "code",
   "execution_count": 6,
   "id": "2f8bd28c-e187-4d75-b1b0-edaaad28d02c",
   "metadata": {},
   "outputs": [
    {
     "name": "stdout",
     "output_type": "stream",
     "text": [
      "0         rice\n",
      "1         rice\n",
      "2         rice\n",
      "3         rice\n",
      "4         rice\n",
      "         ...  \n",
      "2195    coffee\n",
      "2196    coffee\n",
      "2197    coffee\n",
      "2198    coffee\n",
      "2199    coffee\n",
      "Name: label, Length: 2200, dtype: object\n"
     ]
    }
   ],
   "source": [
    "print(df['label'])"
   ]
  },
  {
   "cell_type": "markdown",
   "id": "bdad3d70-0e8d-4bac-a125-636c4b244854",
   "metadata": {},
   "source": [
    "# Data Preprocessing"
   ]
  },
  {
   "cell_type": "code",
   "execution_count": 7,
   "id": "19b0e4b2-f661-4483-a45f-0d1f03c2e3fc",
   "metadata": {},
   "outputs": [
    {
     "data": {
      "text/plain": [
       "(2200, 8)"
      ]
     },
     "execution_count": 7,
     "metadata": {},
     "output_type": "execute_result"
    }
   ],
   "source": [
    "df.shape"
   ]
  },
  {
   "cell_type": "code",
   "execution_count": 8,
   "id": "dbdcaea5-ad2e-4572-9dd4-b87bbeb86b62",
   "metadata": {},
   "outputs": [
    {
     "data": {
      "text/plain": [
       "Index(['N', 'P', 'K', 'temperature', 'humidity', 'ph', 'rainfall', 'label'], dtype='object')"
      ]
     },
     "execution_count": 8,
     "metadata": {},
     "output_type": "execute_result"
    }
   ],
   "source": [
    "df.columns"
   ]
  },
  {
   "cell_type": "code",
   "execution_count": 9,
   "id": "4b3ebfd3-e9ea-489b-b185-aa42518b9e9f",
   "metadata": {},
   "outputs": [
    {
     "data": {
      "text/html": [
       "<div>\n",
       "<style scoped>\n",
       "    .dataframe tbody tr th:only-of-type {\n",
       "        vertical-align: middle;\n",
       "    }\n",
       "\n",
       "    .dataframe tbody tr th {\n",
       "        vertical-align: top;\n",
       "    }\n",
       "\n",
       "    .dataframe thead th {\n",
       "        text-align: right;\n",
       "    }\n",
       "</style>\n",
       "<table border=\"1\" class=\"dataframe\">\n",
       "  <thead>\n",
       "    <tr style=\"text-align: right;\">\n",
       "      <th></th>\n",
       "      <th>N</th>\n",
       "      <th>P</th>\n",
       "      <th>K</th>\n",
       "      <th>temperature</th>\n",
       "      <th>humidity</th>\n",
       "      <th>ph</th>\n",
       "      <th>rainfall</th>\n",
       "    </tr>\n",
       "  </thead>\n",
       "  <tbody>\n",
       "    <tr>\n",
       "      <th>count</th>\n",
       "      <td>2200.000000</td>\n",
       "      <td>2200.000000</td>\n",
       "      <td>2200.000000</td>\n",
       "      <td>2200.000000</td>\n",
       "      <td>2200.000000</td>\n",
       "      <td>2200.000000</td>\n",
       "      <td>2200.000000</td>\n",
       "    </tr>\n",
       "    <tr>\n",
       "      <th>mean</th>\n",
       "      <td>50.551818</td>\n",
       "      <td>53.362727</td>\n",
       "      <td>48.149091</td>\n",
       "      <td>25.616244</td>\n",
       "      <td>71.481779</td>\n",
       "      <td>6.469480</td>\n",
       "      <td>103.463655</td>\n",
       "    </tr>\n",
       "    <tr>\n",
       "      <th>std</th>\n",
       "      <td>36.917334</td>\n",
       "      <td>32.985883</td>\n",
       "      <td>50.647931</td>\n",
       "      <td>5.063749</td>\n",
       "      <td>22.263812</td>\n",
       "      <td>0.773938</td>\n",
       "      <td>54.958389</td>\n",
       "    </tr>\n",
       "    <tr>\n",
       "      <th>min</th>\n",
       "      <td>0.000000</td>\n",
       "      <td>5.000000</td>\n",
       "      <td>5.000000</td>\n",
       "      <td>8.825675</td>\n",
       "      <td>14.258040</td>\n",
       "      <td>3.504752</td>\n",
       "      <td>20.211267</td>\n",
       "    </tr>\n",
       "    <tr>\n",
       "      <th>25%</th>\n",
       "      <td>21.000000</td>\n",
       "      <td>28.000000</td>\n",
       "      <td>20.000000</td>\n",
       "      <td>22.769375</td>\n",
       "      <td>60.261953</td>\n",
       "      <td>5.971693</td>\n",
       "      <td>64.551686</td>\n",
       "    </tr>\n",
       "    <tr>\n",
       "      <th>50%</th>\n",
       "      <td>37.000000</td>\n",
       "      <td>51.000000</td>\n",
       "      <td>32.000000</td>\n",
       "      <td>25.598693</td>\n",
       "      <td>80.473146</td>\n",
       "      <td>6.425045</td>\n",
       "      <td>94.867624</td>\n",
       "    </tr>\n",
       "    <tr>\n",
       "      <th>75%</th>\n",
       "      <td>84.250000</td>\n",
       "      <td>68.000000</td>\n",
       "      <td>49.000000</td>\n",
       "      <td>28.561654</td>\n",
       "      <td>89.948771</td>\n",
       "      <td>6.923643</td>\n",
       "      <td>124.267508</td>\n",
       "    </tr>\n",
       "    <tr>\n",
       "      <th>max</th>\n",
       "      <td>140.000000</td>\n",
       "      <td>145.000000</td>\n",
       "      <td>205.000000</td>\n",
       "      <td>43.675493</td>\n",
       "      <td>99.981876</td>\n",
       "      <td>9.935091</td>\n",
       "      <td>298.560117</td>\n",
       "    </tr>\n",
       "  </tbody>\n",
       "</table>\n",
       "</div>"
      ],
      "text/plain": [
       "                 N            P            K  temperature     humidity  \\\n",
       "count  2200.000000  2200.000000  2200.000000  2200.000000  2200.000000   \n",
       "mean     50.551818    53.362727    48.149091    25.616244    71.481779   \n",
       "std      36.917334    32.985883    50.647931     5.063749    22.263812   \n",
       "min       0.000000     5.000000     5.000000     8.825675    14.258040   \n",
       "25%      21.000000    28.000000    20.000000    22.769375    60.261953   \n",
       "50%      37.000000    51.000000    32.000000    25.598693    80.473146   \n",
       "75%      84.250000    68.000000    49.000000    28.561654    89.948771   \n",
       "max     140.000000   145.000000   205.000000    43.675493    99.981876   \n",
       "\n",
       "                ph     rainfall  \n",
       "count  2200.000000  2200.000000  \n",
       "mean      6.469480   103.463655  \n",
       "std       0.773938    54.958389  \n",
       "min       3.504752    20.211267  \n",
       "25%       5.971693    64.551686  \n",
       "50%       6.425045    94.867624  \n",
       "75%       6.923643   124.267508  \n",
       "max       9.935091   298.560117  "
      ]
     },
     "execution_count": 9,
     "metadata": {},
     "output_type": "execute_result"
    }
   ],
   "source": [
    "df.describe()"
   ]
  },
  {
   "cell_type": "code",
   "execution_count": 10,
   "id": "bd1397c6-854a-4584-b351-ee5dc95843c3",
   "metadata": {},
   "outputs": [
    {
     "name": "stdout",
     "output_type": "stream",
     "text": [
      "<class 'pandas.core.frame.DataFrame'>\n",
      "RangeIndex: 2200 entries, 0 to 2199\n",
      "Data columns (total 8 columns):\n",
      " #   Column       Non-Null Count  Dtype  \n",
      "---  ------       --------------  -----  \n",
      " 0   N            2200 non-null   int64  \n",
      " 1   P            2200 non-null   int64  \n",
      " 2   K            2200 non-null   int64  \n",
      " 3   temperature  2200 non-null   float64\n",
      " 4   humidity     2200 non-null   float64\n",
      " 5   ph           2200 non-null   float64\n",
      " 6   rainfall     2200 non-null   float64\n",
      " 7   label        2200 non-null   object \n",
      "dtypes: float64(4), int64(3), object(1)\n",
      "memory usage: 137.6+ KB\n"
     ]
    }
   ],
   "source": [
    "df.info()"
   ]
  },
  {
   "cell_type": "code",
   "execution_count": 11,
   "id": "df4778e8-455f-40f6-9ffc-fff26987378b",
   "metadata": {},
   "outputs": [
    {
     "name": "stdout",
     "output_type": "stream",
     "text": [
      "Empty DataFrame\n",
      "Columns: [N, P, K, temperature, humidity, ph, rainfall, label]\n",
      "Index: []\n"
     ]
    }
   ],
   "source": [
    "duplicates_all = df[df.duplicated()]\n",
    "print(duplicates_all)"
   ]
  },
  {
   "cell_type": "code",
   "execution_count": 12,
   "id": "f5d5836d-ad85-4688-b8e3-3f4670914e13",
   "metadata": {},
   "outputs": [
    {
     "data": {
      "text/plain": [
       "(2200, 8)"
      ]
     },
     "execution_count": 12,
     "metadata": {},
     "output_type": "execute_result"
    }
   ],
   "source": [
    "# drop duplicate data\n",
    "df.drop_duplicates(inplace=True)\n",
    "df.shape"
   ]
  },
  {
   "cell_type": "code",
   "execution_count": 14,
   "id": "facbd48c-473f-4a07-b72a-53447d02eb2c",
   "metadata": {},
   "outputs": [],
   "source": [
    "# removes  Nan value .\n",
    "df.dropna(inplace =True)"
   ]
  },
  {
   "cell_type": "code",
   "execution_count": 15,
   "id": "79de1a7a-ca0b-436b-b5ea-fb91951b189f",
   "metadata": {},
   "outputs": [
    {
     "data": {
      "text/plain": [
       "False"
      ]
     },
     "execution_count": 15,
     "metadata": {},
     "output_type": "execute_result"
    }
   ],
   "source": [
    "#  Nan Value in the dataframe\n",
    "df.isnull().any().any()"
   ]
  },
  {
   "cell_type": "code",
   "execution_count": 16,
   "id": "7d821371-88f9-4dc5-8d26-c1ed5b28673a",
   "metadata": {},
   "outputs": [
    {
     "data": {
      "text/plain": [
       "0"
      ]
     },
     "execution_count": 16,
     "metadata": {},
     "output_type": "execute_result"
    }
   ],
   "source": [
    "#Count the nan value\n",
    "df.isnull().sum().sum()"
   ]
  },
  {
   "cell_type": "code",
   "execution_count": 17,
   "id": "72524d5d-e3b6-4336-a5e1-1dfd14bd3cab",
   "metadata": {},
   "outputs": [
    {
     "name": "stdout",
     "output_type": "stream",
     "text": [
      "Missing values:\n",
      " N              0\n",
      "P              0\n",
      "K              0\n",
      "temperature    0\n",
      "humidity       0\n",
      "ph             0\n",
      "rainfall       0\n",
      "label          0\n",
      "dtype: int64\n"
     ]
    }
   ],
   "source": [
    "missing = df.isnull().sum()\n",
    "print(\"Missing values:\\n\", missing)"
   ]
  },
  {
   "cell_type": "code",
   "execution_count": 18,
   "id": "35ef00de-ea01-45ba-a04d-d425e85b2ac8",
   "metadata": {},
   "outputs": [
    {
     "data": {
      "text/plain": [
       "array([ 90,  85,  60,  74,  78,  69,  94,  89,  68,  91,  93,  77,  88,\n",
       "        76,  67,  83,  98,  66,  97,  84,  73,  92,  95,  99,  63,  62,\n",
       "        64,  82,  79,  65,  75,  71,  72,  70,  86,  61,  81,  80, 100,\n",
       "        87,  96,  40,  23,  39,  22,  36,  32,  58,  59,  42,  28,  43,\n",
       "        27,  50,  25,  31,  26,  54,  57,  49,  46,  38,  35,  52,  44,\n",
       "        24,  29,  20,  56,  37,  51,  41,  34,  30,  33,  47,  53,  45,\n",
       "        48,  13,   2,  17,  12,   6,  10,  19,  11,  18,  21,  16,   9,\n",
       "         1,   7,   8,   0,   3,   4,   5,  14,  15,  55, 105, 108, 118,\n",
       "       101, 106, 109, 117, 114, 110, 112, 111, 102, 116, 119, 107, 104,\n",
       "       103, 120, 113, 115, 133, 136, 126, 121, 129, 122, 140, 131, 135,\n",
       "       123, 125, 139, 132, 127, 130, 134], dtype=int64)"
      ]
     },
     "execution_count": 18,
     "metadata": {},
     "output_type": "execute_result"
    }
   ],
   "source": [
    "df['N'].unique()"
   ]
  },
  {
   "cell_type": "code",
   "execution_count": 19,
   "id": "8732e385-cfa6-4e02-8874-f1ac96517c5d",
   "metadata": {},
   "outputs": [
    {
     "data": {
      "text/plain": [
       "array([ 42,  58,  55,  35,  37,  53,  54,  46,  56,  50,  48,  38,  45,\n",
       "        40,  59,  41,  47,  49,  51,  57,  39,  43,  44,  60,  52,  36,\n",
       "        72,  67,  73,  70,  62,  74,  66,  63,  71,  78,  80,  68,  65,\n",
       "        77,  76,  79,  61,  64,  69,  75,  24,  18,  26,  27,  25,  21,\n",
       "        30,  11,   5,  10,   7,  20,  22,  15,  23,   8,  16,  29,  17,\n",
       "         6,  19,  13,   9,  14,  28,  94,  95,  92,  89,  88,  87,  85,\n",
       "        86,  83,  91,  81,  84,  90,  82,  93,  33,  31,  34,  32, 130,\n",
       "       144, 123, 125, 131, 140, 122, 134, 145, 139, 141, 138, 136, 132,\n",
       "       133, 121, 126, 120, 142, 135, 129, 128, 137, 127, 124, 143,  12],\n",
       "      dtype=int64)"
      ]
     },
     "execution_count": 19,
     "metadata": {},
     "output_type": "execute_result"
    }
   ],
   "source": [
    "df['P'].unique()"
   ]
  },
  {
   "cell_type": "code",
   "execution_count": 20,
   "id": "1e6dcd29-0233-46a4-b3a3-555c7f3ff2aa",
   "metadata": {},
   "outputs": [
    {
     "data": {
      "text/plain": [
       "array([ 43,  41,  44,  40,  42,  38,  36,  37,  39,  35,  45,  16,  17,\n",
       "        21,  20,  19,  25,  22,  15,  18,  23,  24,  77,  84,  85,  81,\n",
       "        75,  79,  76,  83,  78,  80,  82,  46,  50,  53,  54,  49,  55,\n",
       "        52,  47,  48,  51,  27,  31,  32,  34,  33,  30,  28,  29,  26,\n",
       "       195, 204, 205, 196, 198, 197, 203, 201, 202, 199, 200,  12,  13,\n",
       "         6,   9,  10,  14,   8,   7,   5,  11], dtype=int64)"
      ]
     },
     "execution_count": 20,
     "metadata": {},
     "output_type": "execute_result"
    }
   ],
   "source": [
    "df['K'].unique()"
   ]
  },
  {
   "cell_type": "code",
   "execution_count": 21,
   "id": "cfe11af3-0a14-44ac-a451-b2eedc42e305",
   "metadata": {},
   "outputs": [
    {
     "data": {
      "text/plain": [
       "array([20.87974371, 21.77046169, 23.00445915, ..., 24.13179691,\n",
       "       26.2724184 , 23.60301571])"
      ]
     },
     "execution_count": 21,
     "metadata": {},
     "output_type": "execute_result"
    }
   ],
   "source": [
    "df['temperature'].unique()"
   ]
  },
  {
   "cell_type": "code",
   "execution_count": 22,
   "id": "e8351e93-cefc-4ccc-be6e-3b8ea6e49262",
   "metadata": {},
   "outputs": [
    {
     "data": {
      "text/plain": [
       "array([82.00274423, 80.31964408, 82.3207629 , ..., 67.22512329,\n",
       "       52.12739421, 60.39647474])"
      ]
     },
     "execution_count": 22,
     "metadata": {},
     "output_type": "execute_result"
    }
   ],
   "source": [
    "df['humidity'].unique()"
   ]
  },
  {
   "cell_type": "code",
   "execution_count": 23,
   "id": "c5c818ca-fa66-4bc4-9d90-8c4063432d85",
   "metadata": {},
   "outputs": [
    {
     "data": {
      "text/plain": [
       "array([6.50298529, 7.03809636, 7.84020714, ..., 6.36260785, 6.75879255,\n",
       "       6.77983261])"
      ]
     },
     "execution_count": 23,
     "metadata": {},
     "output_type": "execute_result"
    }
   ],
   "source": [
    "df['ph'].unique()"
   ]
  },
  {
   "cell_type": "code",
   "execution_count": 24,
   "id": "9d6d9c9f-927d-4ae4-8273-bbb41f81413e",
   "metadata": {},
   "outputs": [
    {
     "data": {
      "text/plain": [
       "array([202.9355362, 226.6555374, 263.9642476, ..., 173.3228386,\n",
       "       127.1752928, 140.9370415])"
      ]
     },
     "execution_count": 24,
     "metadata": {},
     "output_type": "execute_result"
    }
   ],
   "source": [
    "df['rainfall'].unique()"
   ]
  },
  {
   "cell_type": "code",
   "execution_count": 25,
   "id": "0ac87398-289d-4d65-8f5b-c3fb93d8538e",
   "metadata": {},
   "outputs": [
    {
     "data": {
      "text/plain": [
       "N\n",
       "22     44\n",
       "40     44\n",
       "27     42\n",
       "39     41\n",
       "31     41\n",
       "       ..\n",
       "136     2\n",
       "139     1\n",
       "135     1\n",
       "130     1\n",
       "46      1\n",
       "Name: count, Length: 137, dtype: int64"
      ]
     },
     "execution_count": 25,
     "metadata": {},
     "output_type": "execute_result"
    }
   ],
   "source": [
    "#  To clean the Country coloumn\n",
    "df['N'].unique()\n",
    "df['N'].value_counts()"
   ]
  },
  {
   "cell_type": "code",
   "execution_count": 26,
   "id": "20661288-8928-483e-bda4-a8b50540cfcf",
   "metadata": {},
   "outputs": [
    {
     "data": {
      "text/plain": [
       "array(['rice', 'maize', 'chickpea', 'kidneybeans', 'pigeonpeas',\n",
       "       'mothbeans', 'mungbean', 'blackgram', 'lentil', 'pomegranate',\n",
       "       'banana', 'mango', 'grapes', 'watermelon', 'muskmelon', 'apple',\n",
       "       'orange', 'papaya', 'coconut', 'cotton', 'jute', 'coffee'],\n",
       "      dtype=object)"
      ]
     },
     "execution_count": 26,
     "metadata": {},
     "output_type": "execute_result"
    }
   ],
   "source": [
    "df['label'].unique()"
   ]
  },
  {
   "cell_type": "code",
   "execution_count": 27,
   "id": "7bec7645-4b91-49d4-8867-a307e0610e7f",
   "metadata": {},
   "outputs": [
    {
     "name": "stdout",
     "output_type": "stream",
     "text": [
      "['rice' 'maize' 'chickpea' 'kidneybeans' 'pigeonpeas' 'mothbeans'\n",
      " 'mungbean' 'blackgram' 'lentil' 'pomegranate' 'banana' 'mango' 'grapes'\n",
      " 'watermelon' 'muskmelon' 'apple' 'orange' 'papaya' 'coconut' 'cotton'\n",
      " 'jute' 'coffee']\n",
      "label\n",
      "rice           100\n",
      "maize          100\n",
      "jute           100\n",
      "cotton         100\n",
      "coconut        100\n",
      "papaya         100\n",
      "orange         100\n",
      "apple          100\n",
      "muskmelon      100\n",
      "watermelon     100\n",
      "grapes         100\n",
      "mango          100\n",
      "banana         100\n",
      "pomegranate    100\n",
      "lentil         100\n",
      "blackgram      100\n",
      "mungbean       100\n",
      "mothbeans      100\n",
      "pigeonpeas     100\n",
      "kidneybeans    100\n",
      "chickpea       100\n",
      "coffee         100\n",
      "Name: count, dtype: int64\n"
     ]
    }
   ],
   "source": [
    "print(df['label'].unique())\n",
    "print(df['label'].value_counts())"
   ]
  },
  {
   "cell_type": "code",
   "execution_count": 28,
   "id": "8f532a2f-48e2-4d95-aed1-a907752f1c7d",
   "metadata": {},
   "outputs": [
    {
     "data": {
      "text/plain": [
       "P\n",
       "60    56\n",
       "58    48\n",
       "56    46\n",
       "55    44\n",
       "57    42\n",
       "      ..\n",
       "83     2\n",
       "82     2\n",
       "90     2\n",
       "93     1\n",
       "84     1\n",
       "Name: count, Length: 117, dtype: int64"
      ]
     },
     "execution_count": 28,
     "metadata": {},
     "output_type": "execute_result"
    }
   ],
   "source": [
    "#  To clean the Country coloumn\n",
    "df['P'].unique()\n",
    "df['P'].value_counts()"
   ]
  },
  {
   "cell_type": "code",
   "execution_count": 29,
   "id": "3fc2501e-13ba-4d6c-9525-79ca5b9bf06c",
   "metadata": {},
   "outputs": [
    {
     "data": {
      "text/plain": [
       "temperature\n",
       "20.879744    1\n",
       "29.480699    1\n",
       "29.943492    1\n",
       "28.033065    1\n",
       "29.884305    1\n",
       "            ..\n",
       "25.365861    1\n",
       "28.568406    1\n",
       "30.284966    1\n",
       "27.325421    1\n",
       "23.603016    1\n",
       "Name: count, Length: 2200, dtype: int64"
      ]
     },
     "execution_count": 29,
     "metadata": {},
     "output_type": "execute_result"
    }
   ],
   "source": [
    "df['temperature'].unique()\n",
    "df['temperature'].value_counts()"
   ]
  },
  {
   "cell_type": "code",
   "execution_count": 30,
   "id": "5e5094c6-00b8-49f3-9ec8-513581ffe689",
   "metadata": {},
   "outputs": [
    {
     "data": {
      "text/plain": [
       "humidity\n",
       "82.002744    1\n",
       "90.336987    1\n",
       "93.907412    1\n",
       "91.473558    1\n",
       "94.037115    1\n",
       "            ..\n",
       "66.637972    1\n",
       "61.532786    1\n",
       "61.692951    1\n",
       "69.090478    1\n",
       "60.396475    1\n",
       "Name: count, Length: 2200, dtype: int64"
      ]
     },
     "execution_count": 30,
     "metadata": {},
     "output_type": "execute_result"
    }
   ],
   "source": [
    "df['humidity'].unique()\n",
    "df['humidity'].value_counts()"
   ]
  },
  {
   "cell_type": "code",
   "execution_count": 31,
   "id": "661cccf9-a074-48dc-bbf7-fdb00b3913d0",
   "metadata": {},
   "outputs": [
    {
     "data": {
      "text/plain": [
       "ph\n",
       "6.502985    1\n",
       "6.640471    1\n",
       "6.251420    1\n",
       "6.274453    1\n",
       "6.135996    1\n",
       "           ..\n",
       "7.538631    1\n",
       "7.127064    1\n",
       "6.628265    1\n",
       "6.726469    1\n",
       "6.779833    1\n",
       "Name: count, Length: 2200, dtype: int64"
      ]
     },
     "execution_count": 31,
     "metadata": {},
     "output_type": "execute_result"
    }
   ],
   "source": [
    "df['ph'].unique()\n",
    "df['ph'].value_counts()"
   ]
  },
  {
   "cell_type": "code",
   "execution_count": 32,
   "id": "ee7a4f9e-cea4-41b4-b93e-5a64fa994a3f",
   "metadata": {},
   "outputs": [
    {
     "data": {
      "text/plain": [
       "rainfall\n",
       "202.935536    1\n",
       "26.036577     1\n",
       "20.390205     1\n",
       "21.179248     1\n",
       "21.000099     1\n",
       "             ..\n",
       "65.816559     1\n",
       "63.497263     1\n",
       "65.628595     1\n",
       "61.192509     1\n",
       "140.937041    1\n",
       "Name: count, Length: 2200, dtype: int64"
      ]
     },
     "execution_count": 32,
     "metadata": {},
     "output_type": "execute_result"
    }
   ],
   "source": [
    "df['rainfall'].unique()\n",
    "df['rainfall'].value_counts()\n"
   ]
  },
  {
   "cell_type": "code",
   "execution_count": 33,
   "id": "b6870bb8-9b38-48b8-83b3-b8dc04f9091b",
   "metadata": {},
   "outputs": [
    {
     "name": "stdout",
     "output_type": "stream",
     "text": [
      "['rice' 'maize' 'chickpea' 'kidneybeans' 'pigeonpeas' 'mothbeans'\n",
      " 'mungbean' 'blackgram' 'lentil' 'pomegranate' 'banana' 'mango' 'grapes'\n",
      " 'watermelon' 'muskmelon' 'apple' 'orange' 'papaya' 'coconut' 'cotton'\n",
      " 'jute' 'coffee']\n",
      "label\n",
      "rice           100\n",
      "maize          100\n",
      "jute           100\n",
      "cotton         100\n",
      "coconut        100\n",
      "papaya         100\n",
      "orange         100\n",
      "apple          100\n",
      "muskmelon      100\n",
      "watermelon     100\n",
      "grapes         100\n",
      "mango          100\n",
      "banana         100\n",
      "pomegranate    100\n",
      "lentil         100\n",
      "blackgram      100\n",
      "mungbean       100\n",
      "mothbeans      100\n",
      "pigeonpeas     100\n",
      "kidneybeans    100\n",
      "chickpea       100\n",
      "coffee         100\n",
      "Name: count, dtype: int64\n"
     ]
    }
   ],
   "source": [
    "print(df['label'].unique())\n",
    "print(df['label'].value_counts())"
   ]
  },
  {
   "cell_type": "code",
   "execution_count": 34,
   "id": "976f4e67-ce54-42eb-95d4-4feac32736d9",
   "metadata": {},
   "outputs": [
    {
     "data": {
      "text/plain": [
       "label\n",
       "rice           100\n",
       "maize          100\n",
       "jute           100\n",
       "cotton         100\n",
       "coconut        100\n",
       "papaya         100\n",
       "orange         100\n",
       "apple          100\n",
       "muskmelon      100\n",
       "watermelon     100\n",
       "grapes         100\n",
       "mango          100\n",
       "banana         100\n",
       "pomegranate    100\n",
       "lentil         100\n",
       "blackgram      100\n",
       "mungbean       100\n",
       "mothbeans      100\n",
       "pigeonpeas     100\n",
       "kidneybeans    100\n",
       "chickpea       100\n",
       "coffee         100\n",
       "Name: count, dtype: int64"
      ]
     },
     "execution_count": 34,
     "metadata": {},
     "output_type": "execute_result"
    }
   ],
   "source": [
    "df['label'].unique()\n",
    "df['label'].value_counts()"
   ]
  },
  {
   "cell_type": "markdown",
   "id": "d23b90a6-1109-4fcd-a6fa-d1e2d4b062a6",
   "metadata": {},
   "source": [
    "# Outlier Detection "
   ]
  },
  {
   "cell_type": "code",
   "execution_count": 35,
   "id": "0457100f-23fd-4a29-9baf-29fd251b7685",
   "metadata": {},
   "outputs": [
    {
     "data": {
      "text/plain": [
       "N              0\n",
       "P              0\n",
       "K              0\n",
       "temperature    0\n",
       "humidity       0\n",
       "ph             0\n",
       "rainfall       0\n",
       "label          0\n",
       "dtype: int64"
      ]
     },
     "execution_count": 35,
     "metadata": {},
     "output_type": "execute_result"
    }
   ],
   "source": [
    "df.isnull().sum()"
   ]
  },
  {
   "cell_type": "code",
   "execution_count": 36,
   "id": "7b987809-9376-4139-b3cf-c7e895e5b52a",
   "metadata": {},
   "outputs": [
    {
     "data": {
      "image/png": "[encoded data removed]",
      "text/plain": [
       "<Figure size 1600x500 with 3 Axes>"
      ]
     },
     "metadata": {},
     "output_type": "display_data"
    }
   ],
   "source": [
    "import matplotlib.pyplot as plt\n",
    "import seaborn as sns\n",
    "\n",
    "plt.figure(figsize=(16, 5))\n",
    "\n",
    "# First subplot\n",
    "plt.subplot(1, 3, 1)  \n",
    "sns.histplot(df['N'], kde=True, color='blue')  \n",
    "\n",
    "# Second subplot\n",
    "plt.subplot(1, 3, 2)  \n",
    "sns.histplot(df['P'], kde=True, color='green')  \n",
    "# Third subplot\n",
    "plt.subplot(1, 3, 3)  # Third column\n",
    "sns.histplot(df['K'], kde=True, color='red') \n",
    "\n",
    "# Show the plots\n",
    "plt.tight_layout()  \n",
    "plt.show()\n"
   ]
  },
  {
   "cell_type": "code",
   "execution_count": 37,
   "id": "2c89d747-7724-4946-b814-b851caf746e5",
   "metadata": {},
   "outputs": [
    {
     "data": {
      "image/png": "[encoded data removed]",
      "text/plain": [
       "<Figure size 1600x500 with 3 Axes>"
      ]
     },
     "metadata": {},
     "output_type": "display_data"
    }
   ],
   "source": [
    "import matplotlib.pyplot as plt\n",
    "import seaborn as sns\n",
    "\n",
    "plt.figure(figsize=(16, 5))\n",
    "\n",
    "# First subplot\n",
    "plt.subplot(1, 3, 1)  \n",
    "sns.histplot(df['temperature'], kde=True, color='blue')  \n",
    "\n",
    "# Second subplot\n",
    "plt.subplot(1, 3, 2)  \n",
    "sns.histplot(df['humidity'], kde=True, color='green')  \n",
    "# Third subplot\n",
    "plt.subplot(1, 3, 3)  # Third column\n",
    "sns.histplot(df['ph'], kde=True, color='red') \n",
    "\n",
    "# Show the plots\n",
    "plt.tight_layout()  \n",
    "plt.show()"
   ]
  },
  {
   "cell_type": "code",
   "execution_count": 38,
   "id": "527e6b1b-5da4-4d2f-92c6-0f1bbad95703",
   "metadata": {},
   "outputs": [
    {
     "data": {
      "image/png": "[encoded data removed]",
      "text/plain": [
       "<Figure size 1600x500 with 1 Axes>"
      ]
     },
     "metadata": {},
     "output_type": "display_data"
    }
   ],
   "source": [
    "import matplotlib.pyplot as plt\n",
    "import seaborn as sns\n",
    "\n",
    "plt.figure(figsize=(16, 5))\n",
    "\n",
    "# First subplot\n",
    "plt.subplot(1, 3, 1)  \n",
    "sns.histplot(df['rainfall'], kde=True, color='blue')  \n",
    "\n",
    "# Show the plots\n",
    "plt.tight_layout()  \n",
    "plt.show()"
   ]
  },
  {
   "cell_type": "code",
   "execution_count": 39,
   "id": "61a023b8-aa7c-434c-aef3-0aeef6eea5e6",
   "metadata": {},
   "outputs": [
    {
     "data": {
      "text/plain": [
       "0.5097213691539147"
      ]
     },
     "execution_count": 39,
     "metadata": {},
     "output_type": "execute_result"
    }
   ],
   "source": [
    "df['N'].skew()"
   ]
  },
  {
   "cell_type": "code",
   "execution_count": 40,
   "id": "57d4bc36-4673-4e7d-a253-61c2581fa6bd",
   "metadata": {},
   "outputs": [
    {
     "data": {
      "text/plain": [
       "count    2200.000000\n",
       "mean       50.551818\n",
       "std        36.917334\n",
       "min         0.000000\n",
       "25%        21.000000\n",
       "50%        37.000000\n",
       "75%        84.250000\n",
       "max       140.000000\n",
       "Name: N, dtype: float64"
      ]
     },
     "execution_count": 40,
     "metadata": {},
     "output_type": "execute_result"
    }
   ],
   "source": [
    "df['N'].describe()"
   ]
  },
  {
   "cell_type": "code",
   "execution_count": 41,
   "id": "f42a6590-2599-4e40-b853-bd7625aba7e1",
   "metadata": {},
   "outputs": [
    {
     "data": {
      "text/plain": [
       "<Axes: ylabel='N'>"
      ]
     },
     "execution_count": 41,
     "metadata": {},
     "output_type": "execute_result"
    },
    {
     "data": {
      "image/png": "[encoded data removed]",
      "text/plain": [
       "<Figure size 640x480 with 1 Axes>"
      ]
     },
     "metadata": {},
     "output_type": "display_data"
    }
   ],
   "source": [
    "sns.boxplot(df['N'])"
   ]
  },
  {
   "cell_type": "code",
   "execution_count": 42,
   "id": "1723b338-774c-47ca-9eac-0d14c7cf1677",
   "metadata": {},
   "outputs": [
    {
     "data": {
      "text/plain": [
       "count    2200.000000\n",
       "mean       53.362727\n",
       "std        32.985883\n",
       "min         5.000000\n",
       "25%        28.000000\n",
       "50%        51.000000\n",
       "75%        68.000000\n",
       "max       145.000000\n",
       "Name: P, dtype: float64"
      ]
     },
     "execution_count": 42,
     "metadata": {},
     "output_type": "execute_result"
    }
   ],
   "source": [
    "df['P'].skew()\n",
    "df['P'].describe()"
   ]
  },
  {
   "cell_type": "code",
   "execution_count": 43,
   "id": "f42b8da0-fd77-431d-af1b-90545eb04dea",
   "metadata": {},
   "outputs": [
    {
     "data": {
      "text/plain": [
       "<Axes: ylabel='P'>"
      ]
     },
     "execution_count": 43,
     "metadata": {},
     "output_type": "execute_result"
    },
    {
     "data": {
      "image/png": "[encoded data removed]",
      "text/plain": [
       "<Figure size 640x480 with 1 Axes>"
      ]
     },
     "metadata": {},
     "output_type": "display_data"
    }
   ],
   "source": [
    "sns.boxplot(df['P'])"
   ]
  },
  {
   "cell_type": "code",
   "execution_count": 44,
   "id": "e1a71e47-98a5-4acb-ac79-814e0fd4978d",
   "metadata": {},
   "outputs": [
    {
     "data": {
      "text/plain": [
       "68.0"
      ]
     },
     "execution_count": 44,
     "metadata": {},
     "output_type": "execute_result"
    }
   ],
   "source": [
    "percentile25 = df['P'].quantile(0.25)\n",
    "percentile75 = df['P'].quantile(0.75)\n",
    "percentile75"
   ]
  },
  {
   "cell_type": "code",
   "execution_count": 45,
   "id": "f0d0853c-62f9-4511-9a7b-1a733f924e8a",
   "metadata": {},
   "outputs": [
    {
     "data": {
      "text/plain": [
       "40.0"
      ]
     },
     "execution_count": 45,
     "metadata": {},
     "output_type": "execute_result"
    }
   ],
   "source": [
    "iqr = percentile75 - percentile25\n",
    "iqr"
   ]
  },
  {
   "cell_type": "code",
   "execution_count": 46,
   "id": "671847d3-d610-4e49-9a7d-d03683090469",
   "metadata": {},
   "outputs": [
    {
     "name": "stdout",
     "output_type": "stream",
     "text": [
      "upperlimit 128.0\n",
      "lowerlimit -32.0\n"
     ]
    }
   ],
   "source": [
    "upper_limit = percentile75 + 1.5 * iqr\n",
    "lower_limit = percentile25 - 1.5 * iqr\n",
    "print(\"upperlimit\", upper_limit)\n",
    "print(\"lowerlimit\", lower_limit)"
   ]
  },
  {
   "cell_type": "code",
   "execution_count": 47,
   "id": "e727baa4-f261-47ec-909c-e8966bb86e01",
   "metadata": {},
   "outputs": [
    {
     "data": {
      "text/html": [
       "<div>\n",
       "<style scoped>\n",
       "    .dataframe tbody tr th:only-of-type {\n",
       "        vertical-align: middle;\n",
       "    }\n",
       "\n",
       "    .dataframe tbody tr th {\n",
       "        vertical-align: top;\n",
       "    }\n",
       "\n",
       "    .dataframe thead th {\n",
       "        text-align: right;\n",
       "    }\n",
       "</style>\n",
       "<table border=\"1\" class=\"dataframe\">\n",
       "  <thead>\n",
       "    <tr style=\"text-align: right;\">\n",
       "      <th></th>\n",
       "      <th>N</th>\n",
       "      <th>P</th>\n",
       "      <th>K</th>\n",
       "      <th>temperature</th>\n",
       "      <th>humidity</th>\n",
       "      <th>ph</th>\n",
       "      <th>rainfall</th>\n",
       "      <th>label</th>\n",
       "    </tr>\n",
       "  </thead>\n",
       "  <tbody>\n",
       "    <tr>\n",
       "      <th>1200</th>\n",
       "      <td>24</td>\n",
       "      <td>130</td>\n",
       "      <td>195</td>\n",
       "      <td>29.996772</td>\n",
       "      <td>81.541566</td>\n",
       "      <td>6.112306</td>\n",
       "      <td>67.125345</td>\n",
       "      <td>grapes</td>\n",
       "    </tr>\n",
       "    <tr>\n",
       "      <th>1201</th>\n",
       "      <td>13</td>\n",
       "      <td>144</td>\n",
       "      <td>204</td>\n",
       "      <td>30.728040</td>\n",
       "      <td>82.426141</td>\n",
       "      <td>6.092242</td>\n",
       "      <td>68.381355</td>\n",
       "      <td>grapes</td>\n",
       "    </tr>\n",
       "    <tr>\n",
       "      <th>1204</th>\n",
       "      <td>24</td>\n",
       "      <td>131</td>\n",
       "      <td>196</td>\n",
       "      <td>22.032962</td>\n",
       "      <td>83.743728</td>\n",
       "      <td>5.732454</td>\n",
       "      <td>65.344408</td>\n",
       "      <td>grapes</td>\n",
       "    </tr>\n",
       "    <tr>\n",
       "      <th>1206</th>\n",
       "      <td>35</td>\n",
       "      <td>140</td>\n",
       "      <td>197</td>\n",
       "      <td>16.775573</td>\n",
       "      <td>82.752419</td>\n",
       "      <td>6.106191</td>\n",
       "      <td>66.762855</td>\n",
       "      <td>grapes</td>\n",
       "    </tr>\n",
       "    <tr>\n",
       "      <th>1209</th>\n",
       "      <td>17</td>\n",
       "      <td>134</td>\n",
       "      <td>204</td>\n",
       "      <td>39.040720</td>\n",
       "      <td>80.183933</td>\n",
       "      <td>6.499605</td>\n",
       "      <td>73.884670</td>\n",
       "      <td>grapes</td>\n",
       "    </tr>\n",
       "    <tr>\n",
       "      <th>...</th>\n",
       "      <td>...</td>\n",
       "      <td>...</td>\n",
       "      <td>...</td>\n",
       "      <td>...</td>\n",
       "      <td>...</td>\n",
       "      <td>...</td>\n",
       "      <td>...</td>\n",
       "      <td>...</td>\n",
       "    </tr>\n",
       "    <tr>\n",
       "      <th>1594</th>\n",
       "      <td>35</td>\n",
       "      <td>145</td>\n",
       "      <td>195</td>\n",
       "      <td>22.039115</td>\n",
       "      <td>94.580758</td>\n",
       "      <td>6.231950</td>\n",
       "      <td>110.980401</td>\n",
       "      <td>apple</td>\n",
       "    </tr>\n",
       "    <tr>\n",
       "      <th>1596</th>\n",
       "      <td>25</td>\n",
       "      <td>132</td>\n",
       "      <td>198</td>\n",
       "      <td>22.319441</td>\n",
       "      <td>90.851744</td>\n",
       "      <td>5.732758</td>\n",
       "      <td>100.117344</td>\n",
       "      <td>apple</td>\n",
       "    </tr>\n",
       "    <tr>\n",
       "      <th>1597</th>\n",
       "      <td>31</td>\n",
       "      <td>137</td>\n",
       "      <td>196</td>\n",
       "      <td>22.144641</td>\n",
       "      <td>93.825674</td>\n",
       "      <td>6.400321</td>\n",
       "      <td>120.631078</td>\n",
       "      <td>apple</td>\n",
       "    </tr>\n",
       "    <tr>\n",
       "      <th>1598</th>\n",
       "      <td>36</td>\n",
       "      <td>144</td>\n",
       "      <td>196</td>\n",
       "      <td>23.651676</td>\n",
       "      <td>94.505288</td>\n",
       "      <td>6.496934</td>\n",
       "      <td>115.361127</td>\n",
       "      <td>apple</td>\n",
       "    </tr>\n",
       "    <tr>\n",
       "      <th>1599</th>\n",
       "      <td>10</td>\n",
       "      <td>140</td>\n",
       "      <td>197</td>\n",
       "      <td>22.169395</td>\n",
       "      <td>90.271856</td>\n",
       "      <td>6.229499</td>\n",
       "      <td>124.468311</td>\n",
       "      <td>apple</td>\n",
       "    </tr>\n",
       "  </tbody>\n",
       "</table>\n",
       "<p>138 rows × 8 columns</p>\n",
       "</div>"
      ],
      "text/plain": [
       "       N    P    K  temperature   humidity        ph    rainfall   label\n",
       "1200  24  130  195    29.996772  81.541566  6.112306   67.125345  grapes\n",
       "1201  13  144  204    30.728040  82.426141  6.092242   68.381355  grapes\n",
       "1204  24  131  196    22.032962  83.743728  5.732454   65.344408  grapes\n",
       "1206  35  140  197    16.775573  82.752419  6.106191   66.762855  grapes\n",
       "1209  17  134  204    39.040720  80.183933  6.499605   73.884670  grapes\n",
       "...   ..  ...  ...          ...        ...       ...         ...     ...\n",
       "1594  35  145  195    22.039115  94.580758  6.231950  110.980401   apple\n",
       "1596  25  132  198    22.319441  90.851744  5.732758  100.117344   apple\n",
       "1597  31  137  196    22.144641  93.825674  6.400321  120.631078   apple\n",
       "1598  36  144  196    23.651676  94.505288  6.496934  115.361127   apple\n",
       "1599  10  140  197    22.169395  90.271856  6.229499  124.468311   apple\n",
       "\n",
       "[138 rows x 8 columns]"
      ]
     },
     "execution_count": 47,
     "metadata": {},
     "output_type": "execute_result"
    }
   ],
   "source": [
    "df[df['P']>upper_limit]"
   ]
  },
  {
   "cell_type": "code",
   "execution_count": 48,
   "id": "14c39817-a124-49eb-9df9-acf243134c7f",
   "metadata": {},
   "outputs": [
    {
     "data": {
      "text/html": [
       "<div>\n",
       "<style scoped>\n",
       "    .dataframe tbody tr th:only-of-type {\n",
       "        vertical-align: middle;\n",
       "    }\n",
       "\n",
       "    .dataframe tbody tr th {\n",
       "        vertical-align: top;\n",
       "    }\n",
       "\n",
       "    .dataframe thead th {\n",
       "        text-align: right;\n",
       "    }\n",
       "</style>\n",
       "<table border=\"1\" class=\"dataframe\">\n",
       "  <thead>\n",
       "    <tr style=\"text-align: right;\">\n",
       "      <th></th>\n",
       "      <th>N</th>\n",
       "      <th>P</th>\n",
       "      <th>K</th>\n",
       "      <th>temperature</th>\n",
       "      <th>humidity</th>\n",
       "      <th>ph</th>\n",
       "      <th>rainfall</th>\n",
       "      <th>label</th>\n",
       "    </tr>\n",
       "  </thead>\n",
       "  <tbody>\n",
       "  </tbody>\n",
       "</table>\n",
       "</div>"
      ],
      "text/plain": [
       "Empty DataFrame\n",
       "Columns: [N, P, K, temperature, humidity, ph, rainfall, label]\n",
       "Index: []"
      ]
     },
     "execution_count": 48,
     "metadata": {},
     "output_type": "execute_result"
    }
   ],
   "source": [
    "df[df['P'] < lower_limit]"
   ]
  },
  {
   "cell_type": "code",
   "execution_count": 49,
   "id": "b2a66014-be65-4dba-9920-af1093d0c996",
   "metadata": {},
   "outputs": [
    {
     "data": {
      "text/plain": [
       "(2056, 8)"
      ]
     },
     "execution_count": 49,
     "metadata": {},
     "output_type": "execute_result"
    }
   ],
   "source": [
    "df = df[df['P'] < upper_limit]\n",
    "df.shape"
   ]
  },
  {
   "cell_type": "code",
   "execution_count": 50,
   "id": "ed948efc-80c4-4382-a0e5-00c96915cd2e",
   "metadata": {},
   "outputs": [
    {
     "data": {
      "image/png": "[encoded data removed]",
      "text/plain": [
       "<Figure size 1600x500 with 2 Axes>"
      ]
     },
     "metadata": {},
     "output_type": "display_data"
    }
   ],
   "source": [
    "plt.figure(figsize=(16, 5))\n",
    "\n",
    "# First subplot\n",
    "plt.subplot(2, 2, 3)  \n",
    "sns.histplot(df['P'], kde=True, color='blue')\n",
    "plt.subplot(2, 2, 4) \n",
    "sns.boxplot(df['P'])\n",
    "plt.show()"
   ]
  },
  {
   "cell_type": "code",
   "execution_count": 51,
   "id": "a101d2f8-7d74-4459-ae20-5bdf53fc09dd",
   "metadata": {},
   "outputs": [
    {
     "data": {
      "text/plain": [
       "count    2056.000000\n",
       "mean       37.519942\n",
       "std        31.895276\n",
       "min         5.000000\n",
       "25%        20.000000\n",
       "50%        30.000000\n",
       "75%        46.000000\n",
       "max       205.000000\n",
       "Name: K, dtype: float64"
      ]
     },
     "execution_count": 51,
     "metadata": {},
     "output_type": "execute_result"
    }
   ],
   "source": [
    "df['K'].skew()\n",
    "df['K'].describe()"
   ]
  },
  {
   "cell_type": "code",
   "execution_count": 52,
   "id": "d74e4c91-b0e1-42c0-b904-c43bc3ff9749",
   "metadata": {},
   "outputs": [
    {
     "data": {
      "text/plain": [
       "<Axes: ylabel='K'>"
      ]
     },
     "execution_count": 52,
     "metadata": {},
     "output_type": "execute_result"
    },
    {
     "data": {
      "image/png": "[encoded data removed]",
      "text/plain": [
       "<Figure size 640x480 with 1 Axes>"
      ]
     },
     "metadata": {},
     "output_type": "display_data"
    }
   ],
   "source": [
    "sns.boxplot(df['K'])"
   ]
  },
  {
   "cell_type": "code",
   "execution_count": 53,
   "id": "708be458-b383-4710-89f7-f8cd5a9dc4a5",
   "metadata": {},
   "outputs": [
    {
     "data": {
      "text/plain": [
       "46.0"
      ]
     },
     "execution_count": 53,
     "metadata": {},
     "output_type": "execute_result"
    }
   ],
   "source": [
    "percentile25 = df['K'].quantile(0.25)\n",
    "percentile75 = df['K'].quantile(0.75)\n",
    "percentile75"
   ]
  },
  {
   "cell_type": "code",
   "execution_count": 54,
   "id": "5388aec8-2d15-4a4a-87f8-ae298538648e",
   "metadata": {},
   "outputs": [
    {
     "data": {
      "text/plain": [
       "26.0"
      ]
     },
     "execution_count": 54,
     "metadata": {},
     "output_type": "execute_result"
    }
   ],
   "source": [
    "iqr = percentile75 - percentile25\n",
    "iqr"
   ]
  },
  {
   "cell_type": "code",
   "execution_count": 55,
   "id": "c49d6224-0ab7-4afc-942e-0f3ef4ea70d5",
   "metadata": {},
   "outputs": [
    {
     "name": "stdout",
     "output_type": "stream",
     "text": [
      "upperlimit 85.0\n",
      "lowerlimit -19.0\n"
     ]
    }
   ],
   "source": [
    "upper_limit = percentile75 + 1.5 * iqr\n",
    "lower_limit = percentile25 - 1.5 * iqr\n",
    "print(\"upperlimit\", upper_limit)\n",
    "print(\"lowerlimit\", lower_limit)"
   ]
  },
  {
   "cell_type": "code",
   "execution_count": 56,
   "id": "3676f144-91cf-46c8-bc24-a0bd938e97f9",
   "metadata": {},
   "outputs": [
    {
     "data": {
      "text/html": [
       "<div>\n",
       "<style scoped>\n",
       "    .dataframe tbody tr th:only-of-type {\n",
       "        vertical-align: middle;\n",
       "    }\n",
       "\n",
       "    .dataframe tbody tr th {\n",
       "        vertical-align: top;\n",
       "    }\n",
       "\n",
       "    .dataframe thead th {\n",
       "        text-align: right;\n",
       "    }\n",
       "</style>\n",
       "<table border=\"1\" class=\"dataframe\">\n",
       "  <thead>\n",
       "    <tr style=\"text-align: right;\">\n",
       "      <th></th>\n",
       "      <th>N</th>\n",
       "      <th>P</th>\n",
       "      <th>K</th>\n",
       "      <th>temperature</th>\n",
       "      <th>humidity</th>\n",
       "      <th>ph</th>\n",
       "      <th>rainfall</th>\n",
       "      <th>label</th>\n",
       "    </tr>\n",
       "  </thead>\n",
       "  <tbody>\n",
       "    <tr>\n",
       "      <th>1202</th>\n",
       "      <td>22</td>\n",
       "      <td>123</td>\n",
       "      <td>205</td>\n",
       "      <td>32.445778</td>\n",
       "      <td>83.885049</td>\n",
       "      <td>5.896343</td>\n",
       "      <td>68.739325</td>\n",
       "      <td>grapes</td>\n",
       "    </tr>\n",
       "    <tr>\n",
       "      <th>1203</th>\n",
       "      <td>36</td>\n",
       "      <td>125</td>\n",
       "      <td>196</td>\n",
       "      <td>37.465668</td>\n",
       "      <td>80.659687</td>\n",
       "      <td>6.155261</td>\n",
       "      <td>66.838723</td>\n",
       "      <td>grapes</td>\n",
       "    </tr>\n",
       "    <tr>\n",
       "      <th>1205</th>\n",
       "      <td>2</td>\n",
       "      <td>123</td>\n",
       "      <td>198</td>\n",
       "      <td>39.648519</td>\n",
       "      <td>82.210799</td>\n",
       "      <td>6.253035</td>\n",
       "      <td>70.399061</td>\n",
       "      <td>grapes</td>\n",
       "    </tr>\n",
       "    <tr>\n",
       "      <th>1207</th>\n",
       "      <td>11</td>\n",
       "      <td>122</td>\n",
       "      <td>195</td>\n",
       "      <td>12.141907</td>\n",
       "      <td>83.568125</td>\n",
       "      <td>5.647202</td>\n",
       "      <td>69.631220</td>\n",
       "      <td>grapes</td>\n",
       "    </tr>\n",
       "    <tr>\n",
       "      <th>1208</th>\n",
       "      <td>6</td>\n",
       "      <td>123</td>\n",
       "      <td>203</td>\n",
       "      <td>12.756796</td>\n",
       "      <td>81.624974</td>\n",
       "      <td>6.130310</td>\n",
       "      <td>66.778446</td>\n",
       "      <td>grapes</td>\n",
       "    </tr>\n",
       "    <tr>\n",
       "      <th>1212</th>\n",
       "      <td>9</td>\n",
       "      <td>122</td>\n",
       "      <td>201</td>\n",
       "      <td>29.587484</td>\n",
       "      <td>80.919344</td>\n",
       "      <td>5.570291</td>\n",
       "      <td>68.064173</td>\n",
       "      <td>grapes</td>\n",
       "    </tr>\n",
       "    <tr>\n",
       "      <th>1218</th>\n",
       "      <td>28</td>\n",
       "      <td>122</td>\n",
       "      <td>197</td>\n",
       "      <td>19.893639</td>\n",
       "      <td>82.733664</td>\n",
       "      <td>5.856575</td>\n",
       "      <td>69.662568</td>\n",
       "      <td>grapes</td>\n",
       "    </tr>\n",
       "    <tr>\n",
       "      <th>1223</th>\n",
       "      <td>25</td>\n",
       "      <td>121</td>\n",
       "      <td>201</td>\n",
       "      <td>30.507348</td>\n",
       "      <td>82.717756</td>\n",
       "      <td>5.594241</td>\n",
       "      <td>70.082004</td>\n",
       "      <td>grapes</td>\n",
       "    </tr>\n",
       "    <tr>\n",
       "      <th>1224</th>\n",
       "      <td>15</td>\n",
       "      <td>125</td>\n",
       "      <td>199</td>\n",
       "      <td>18.426994</td>\n",
       "      <td>80.556259</td>\n",
       "      <td>5.569230</td>\n",
       "      <td>69.757343</td>\n",
       "      <td>grapes</td>\n",
       "    </tr>\n",
       "    <tr>\n",
       "      <th>1227</th>\n",
       "      <td>5</td>\n",
       "      <td>126</td>\n",
       "      <td>197</td>\n",
       "      <td>12.800004</td>\n",
       "      <td>81.208764</td>\n",
       "      <td>6.417501</td>\n",
       "      <td>67.104394</td>\n",
       "      <td>grapes</td>\n",
       "    </tr>\n",
       "    <tr>\n",
       "      <th>1228</th>\n",
       "      <td>30</td>\n",
       "      <td>120</td>\n",
       "      <td>200</td>\n",
       "      <td>38.060995</td>\n",
       "      <td>82.247296</td>\n",
       "      <td>6.234904</td>\n",
       "      <td>65.701482</td>\n",
       "      <td>grapes</td>\n",
       "    </tr>\n",
       "    <tr>\n",
       "      <th>1231</th>\n",
       "      <td>7</td>\n",
       "      <td>126</td>\n",
       "      <td>203</td>\n",
       "      <td>16.762017</td>\n",
       "      <td>82.003356</td>\n",
       "      <td>5.662140</td>\n",
       "      <td>73.287128</td>\n",
       "      <td>grapes</td>\n",
       "    </tr>\n",
       "    <tr>\n",
       "      <th>1239</th>\n",
       "      <td>20</td>\n",
       "      <td>122</td>\n",
       "      <td>204</td>\n",
       "      <td>11.797647</td>\n",
       "      <td>80.863254</td>\n",
       "      <td>6.487370</td>\n",
       "      <td>65.069625</td>\n",
       "      <td>grapes</td>\n",
       "    </tr>\n",
       "    <tr>\n",
       "      <th>1240</th>\n",
       "      <td>40</td>\n",
       "      <td>126</td>\n",
       "      <td>201</td>\n",
       "      <td>11.363009</td>\n",
       "      <td>80.031000</td>\n",
       "      <td>6.116983</td>\n",
       "      <td>71.182894</td>\n",
       "      <td>grapes</td>\n",
       "    </tr>\n",
       "    <tr>\n",
       "      <th>1244</th>\n",
       "      <td>19</td>\n",
       "      <td>123</td>\n",
       "      <td>200</td>\n",
       "      <td>34.760861</td>\n",
       "      <td>81.035448</td>\n",
       "      <td>6.167014</td>\n",
       "      <td>65.704300</td>\n",
       "      <td>grapes</td>\n",
       "    </tr>\n",
       "    <tr>\n",
       "      <th>1248</th>\n",
       "      <td>8</td>\n",
       "      <td>127</td>\n",
       "      <td>196</td>\n",
       "      <td>27.027661</td>\n",
       "      <td>83.170939</td>\n",
       "      <td>5.833302</td>\n",
       "      <td>70.956660</td>\n",
       "      <td>grapes</td>\n",
       "    </tr>\n",
       "    <tr>\n",
       "      <th>1250</th>\n",
       "      <td>32</td>\n",
       "      <td>120</td>\n",
       "      <td>204</td>\n",
       "      <td>10.380048</td>\n",
       "      <td>83.445181</td>\n",
       "      <td>6.138959</td>\n",
       "      <td>67.391738</td>\n",
       "      <td>grapes</td>\n",
       "    </tr>\n",
       "    <tr>\n",
       "      <th>1256</th>\n",
       "      <td>39</td>\n",
       "      <td>127</td>\n",
       "      <td>202</td>\n",
       "      <td>15.324665</td>\n",
       "      <td>81.672160</td>\n",
       "      <td>6.477768</td>\n",
       "      <td>71.601030</td>\n",
       "      <td>grapes</td>\n",
       "    </tr>\n",
       "    <tr>\n",
       "      <th>1257</th>\n",
       "      <td>19</td>\n",
       "      <td>120</td>\n",
       "      <td>195</td>\n",
       "      <td>18.739322</td>\n",
       "      <td>81.121092</td>\n",
       "      <td>5.931538</td>\n",
       "      <td>73.558080</td>\n",
       "      <td>grapes</td>\n",
       "    </tr>\n",
       "    <tr>\n",
       "      <th>1266</th>\n",
       "      <td>40</td>\n",
       "      <td>121</td>\n",
       "      <td>199</td>\n",
       "      <td>26.181597</td>\n",
       "      <td>81.038863</td>\n",
       "      <td>6.315586</td>\n",
       "      <td>66.059117</td>\n",
       "      <td>grapes</td>\n",
       "    </tr>\n",
       "    <tr>\n",
       "      <th>1269</th>\n",
       "      <td>32</td>\n",
       "      <td>121</td>\n",
       "      <td>199</td>\n",
       "      <td>39.371026</td>\n",
       "      <td>81.253539</td>\n",
       "      <td>6.129813</td>\n",
       "      <td>74.081017</td>\n",
       "      <td>grapes</td>\n",
       "    </tr>\n",
       "    <tr>\n",
       "      <th>1271</th>\n",
       "      <td>8</td>\n",
       "      <td>120</td>\n",
       "      <td>196</td>\n",
       "      <td>24.066794</td>\n",
       "      <td>82.663967</td>\n",
       "      <td>6.053663</td>\n",
       "      <td>69.818558</td>\n",
       "      <td>grapes</td>\n",
       "    </tr>\n",
       "    <tr>\n",
       "      <th>1280</th>\n",
       "      <td>33</td>\n",
       "      <td>120</td>\n",
       "      <td>205</td>\n",
       "      <td>35.121583</td>\n",
       "      <td>82.268908</td>\n",
       "      <td>5.550832</td>\n",
       "      <td>69.715185</td>\n",
       "      <td>grapes</td>\n",
       "    </tr>\n",
       "    <tr>\n",
       "      <th>1281</th>\n",
       "      <td>35</td>\n",
       "      <td>125</td>\n",
       "      <td>204</td>\n",
       "      <td>19.649177</td>\n",
       "      <td>80.152158</td>\n",
       "      <td>6.107742</td>\n",
       "      <td>73.695296</td>\n",
       "      <td>grapes</td>\n",
       "    </tr>\n",
       "    <tr>\n",
       "      <th>1287</th>\n",
       "      <td>29</td>\n",
       "      <td>122</td>\n",
       "      <td>196</td>\n",
       "      <td>41.948657</td>\n",
       "      <td>81.155952</td>\n",
       "      <td>5.638328</td>\n",
       "      <td>73.068630</td>\n",
       "      <td>grapes</td>\n",
       "    </tr>\n",
       "    <tr>\n",
       "      <th>1289</th>\n",
       "      <td>38</td>\n",
       "      <td>120</td>\n",
       "      <td>197</td>\n",
       "      <td>17.543830</td>\n",
       "      <td>82.947033</td>\n",
       "      <td>6.323723</td>\n",
       "      <td>73.770637</td>\n",
       "      <td>grapes</td>\n",
       "    </tr>\n",
       "    <tr>\n",
       "      <th>1291</th>\n",
       "      <td>14</td>\n",
       "      <td>121</td>\n",
       "      <td>203</td>\n",
       "      <td>9.724458</td>\n",
       "      <td>83.747656</td>\n",
       "      <td>6.158689</td>\n",
       "      <td>74.464111</td>\n",
       "      <td>grapes</td>\n",
       "    </tr>\n",
       "    <tr>\n",
       "      <th>1292</th>\n",
       "      <td>6</td>\n",
       "      <td>125</td>\n",
       "      <td>204</td>\n",
       "      <td>27.920049</td>\n",
       "      <td>82.932624</td>\n",
       "      <td>5.733540</td>\n",
       "      <td>69.920928</td>\n",
       "      <td>grapes</td>\n",
       "    </tr>\n",
       "    <tr>\n",
       "      <th>1294</th>\n",
       "      <td>11</td>\n",
       "      <td>124</td>\n",
       "      <td>204</td>\n",
       "      <td>13.429886</td>\n",
       "      <td>80.066340</td>\n",
       "      <td>6.361141</td>\n",
       "      <td>71.400430</td>\n",
       "      <td>grapes</td>\n",
       "    </tr>\n",
       "    <tr>\n",
       "      <th>1298</th>\n",
       "      <td>37</td>\n",
       "      <td>124</td>\n",
       "      <td>195</td>\n",
       "      <td>18.706791</td>\n",
       "      <td>83.479529</td>\n",
       "      <td>6.209928</td>\n",
       "      <td>66.596449</td>\n",
       "      <td>grapes</td>\n",
       "    </tr>\n",
       "    <tr>\n",
       "      <th>1503</th>\n",
       "      <td>8</td>\n",
       "      <td>120</td>\n",
       "      <td>201</td>\n",
       "      <td>21.186674</td>\n",
       "      <td>91.134357</td>\n",
       "      <td>6.321152</td>\n",
       "      <td>122.233323</td>\n",
       "      <td>apple</td>\n",
       "    </tr>\n",
       "    <tr>\n",
       "      <th>1507</th>\n",
       "      <td>0</td>\n",
       "      <td>123</td>\n",
       "      <td>205</td>\n",
       "      <td>22.027754</td>\n",
       "      <td>92.961295</td>\n",
       "      <td>5.790993</td>\n",
       "      <td>121.134918</td>\n",
       "      <td>apple</td>\n",
       "    </tr>\n",
       "    <tr>\n",
       "      <th>1509</th>\n",
       "      <td>1</td>\n",
       "      <td>124</td>\n",
       "      <td>199</td>\n",
       "      <td>23.710591</td>\n",
       "      <td>93.273924</td>\n",
       "      <td>5.658474</td>\n",
       "      <td>112.667659</td>\n",
       "      <td>apple</td>\n",
       "    </tr>\n",
       "    <tr>\n",
       "      <th>1510</th>\n",
       "      <td>30</td>\n",
       "      <td>122</td>\n",
       "      <td>197</td>\n",
       "      <td>21.377847</td>\n",
       "      <td>92.720437</td>\n",
       "      <td>5.573241</td>\n",
       "      <td>106.141702</td>\n",
       "      <td>apple</td>\n",
       "    </tr>\n",
       "    <tr>\n",
       "      <th>1511</th>\n",
       "      <td>29</td>\n",
       "      <td>121</td>\n",
       "      <td>196</td>\n",
       "      <td>22.848528</td>\n",
       "      <td>94.321302</td>\n",
       "      <td>6.079497</td>\n",
       "      <td>123.597784</td>\n",
       "      <td>apple</td>\n",
       "    </tr>\n",
       "    <tr>\n",
       "      <th>1512</th>\n",
       "      <td>13</td>\n",
       "      <td>126</td>\n",
       "      <td>204</td>\n",
       "      <td>23.109427</td>\n",
       "      <td>92.796308</td>\n",
       "      <td>6.383180</td>\n",
       "      <td>108.183792</td>\n",
       "      <td>apple</td>\n",
       "    </tr>\n",
       "    <tr>\n",
       "      <th>1518</th>\n",
       "      <td>33</td>\n",
       "      <td>121</td>\n",
       "      <td>203</td>\n",
       "      <td>22.456967</td>\n",
       "      <td>94.762854</td>\n",
       "      <td>5.605934</td>\n",
       "      <td>114.840772</td>\n",
       "      <td>apple</td>\n",
       "    </tr>\n",
       "    <tr>\n",
       "      <th>1530</th>\n",
       "      <td>37</td>\n",
       "      <td>126</td>\n",
       "      <td>196</td>\n",
       "      <td>23.599973</td>\n",
       "      <td>90.975977</td>\n",
       "      <td>5.596449</td>\n",
       "      <td>107.172819</td>\n",
       "      <td>apple</td>\n",
       "    </tr>\n",
       "    <tr>\n",
       "      <th>1531</th>\n",
       "      <td>2</td>\n",
       "      <td>120</td>\n",
       "      <td>203</td>\n",
       "      <td>23.126527</td>\n",
       "      <td>94.712033</td>\n",
       "      <td>5.893493</td>\n",
       "      <td>108.621183</td>\n",
       "      <td>apple</td>\n",
       "    </tr>\n",
       "    <tr>\n",
       "      <th>1536</th>\n",
       "      <td>18</td>\n",
       "      <td>125</td>\n",
       "      <td>204</td>\n",
       "      <td>22.355482</td>\n",
       "      <td>94.478118</td>\n",
       "      <td>6.046674</td>\n",
       "      <td>116.736626</td>\n",
       "      <td>apple</td>\n",
       "    </tr>\n",
       "    <tr>\n",
       "      <th>1537</th>\n",
       "      <td>13</td>\n",
       "      <td>121</td>\n",
       "      <td>196</td>\n",
       "      <td>22.207010</td>\n",
       "      <td>93.505742</td>\n",
       "      <td>6.443383</td>\n",
       "      <td>120.159377</td>\n",
       "      <td>apple</td>\n",
       "    </tr>\n",
       "    <tr>\n",
       "      <th>1538</th>\n",
       "      <td>26</td>\n",
       "      <td>122</td>\n",
       "      <td>202</td>\n",
       "      <td>22.445170</td>\n",
       "      <td>94.737635</td>\n",
       "      <td>5.617227</td>\n",
       "      <td>107.184327</td>\n",
       "      <td>apple</td>\n",
       "    </tr>\n",
       "    <tr>\n",
       "      <th>1539</th>\n",
       "      <td>28</td>\n",
       "      <td>123</td>\n",
       "      <td>202</td>\n",
       "      <td>22.766430</td>\n",
       "      <td>92.124385</td>\n",
       "      <td>6.442289</td>\n",
       "      <td>120.435995</td>\n",
       "      <td>apple</td>\n",
       "    </tr>\n",
       "    <tr>\n",
       "      <th>1540</th>\n",
       "      <td>26</td>\n",
       "      <td>121</td>\n",
       "      <td>201</td>\n",
       "      <td>22.191094</td>\n",
       "      <td>90.025751</td>\n",
       "      <td>6.162034</td>\n",
       "      <td>112.312663</td>\n",
       "      <td>apple</td>\n",
       "    </tr>\n",
       "    <tr>\n",
       "      <th>1544</th>\n",
       "      <td>2</td>\n",
       "      <td>123</td>\n",
       "      <td>205</td>\n",
       "      <td>22.366293</td>\n",
       "      <td>90.785725</td>\n",
       "      <td>5.739652</td>\n",
       "      <td>124.983162</td>\n",
       "      <td>apple</td>\n",
       "    </tr>\n",
       "    <tr>\n",
       "      <th>1549</th>\n",
       "      <td>19</td>\n",
       "      <td>122</td>\n",
       "      <td>202</td>\n",
       "      <td>23.344674</td>\n",
       "      <td>90.379815</td>\n",
       "      <td>5.811975</td>\n",
       "      <td>112.895402</td>\n",
       "      <td>apple</td>\n",
       "    </tr>\n",
       "    <tr>\n",
       "      <th>1550</th>\n",
       "      <td>10</td>\n",
       "      <td>125</td>\n",
       "      <td>196</td>\n",
       "      <td>22.312537</td>\n",
       "      <td>90.035771</td>\n",
       "      <td>5.730557</td>\n",
       "      <td>113.068815</td>\n",
       "      <td>apple</td>\n",
       "    </tr>\n",
       "    <tr>\n",
       "      <th>1552</th>\n",
       "      <td>28</td>\n",
       "      <td>123</td>\n",
       "      <td>198</td>\n",
       "      <td>23.462603</td>\n",
       "      <td>91.456650</td>\n",
       "      <td>5.682751</td>\n",
       "      <td>111.776340</td>\n",
       "      <td>apple</td>\n",
       "    </tr>\n",
       "    <tr>\n",
       "      <th>1557</th>\n",
       "      <td>30</td>\n",
       "      <td>127</td>\n",
       "      <td>204</td>\n",
       "      <td>22.500503</td>\n",
       "      <td>92.458783</td>\n",
       "      <td>6.126437</td>\n",
       "      <td>100.934390</td>\n",
       "      <td>apple</td>\n",
       "    </tr>\n",
       "    <tr>\n",
       "      <th>1560</th>\n",
       "      <td>26</td>\n",
       "      <td>126</td>\n",
       "      <td>195</td>\n",
       "      <td>21.413638</td>\n",
       "      <td>92.991245</td>\n",
       "      <td>5.878569</td>\n",
       "      <td>118.397907</td>\n",
       "      <td>apple</td>\n",
       "    </tr>\n",
       "    <tr>\n",
       "      <th>1562</th>\n",
       "      <td>6</td>\n",
       "      <td>124</td>\n",
       "      <td>200</td>\n",
       "      <td>22.982081</td>\n",
       "      <td>93.845050</td>\n",
       "      <td>5.971332</td>\n",
       "      <td>109.585225</td>\n",
       "      <td>apple</td>\n",
       "    </tr>\n",
       "    <tr>\n",
       "      <th>1567</th>\n",
       "      <td>27</td>\n",
       "      <td>120</td>\n",
       "      <td>200</td>\n",
       "      <td>21.452787</td>\n",
       "      <td>90.745319</td>\n",
       "      <td>6.110219</td>\n",
       "      <td>116.703658</td>\n",
       "      <td>apple</td>\n",
       "    </tr>\n",
       "    <tr>\n",
       "      <th>1570</th>\n",
       "      <td>15</td>\n",
       "      <td>123</td>\n",
       "      <td>204</td>\n",
       "      <td>22.527093</td>\n",
       "      <td>92.547804</td>\n",
       "      <td>6.365973</td>\n",
       "      <td>115.383007</td>\n",
       "      <td>apple</td>\n",
       "    </tr>\n",
       "    <tr>\n",
       "      <th>1579</th>\n",
       "      <td>18</td>\n",
       "      <td>125</td>\n",
       "      <td>203</td>\n",
       "      <td>22.443077</td>\n",
       "      <td>91.592340</td>\n",
       "      <td>6.160267</td>\n",
       "      <td>102.556581</td>\n",
       "      <td>apple</td>\n",
       "    </tr>\n",
       "    <tr>\n",
       "      <th>1589</th>\n",
       "      <td>31</td>\n",
       "      <td>121</td>\n",
       "      <td>201</td>\n",
       "      <td>23.157911</td>\n",
       "      <td>90.343969</td>\n",
       "      <td>5.731535</td>\n",
       "      <td>110.712841</td>\n",
       "      <td>apple</td>\n",
       "    </tr>\n",
       "    <tr>\n",
       "      <th>1595</th>\n",
       "      <td>40</td>\n",
       "      <td>120</td>\n",
       "      <td>197</td>\n",
       "      <td>23.805938</td>\n",
       "      <td>92.488795</td>\n",
       "      <td>5.889481</td>\n",
       "      <td>119.633555</td>\n",
       "      <td>apple</td>\n",
       "    </tr>\n",
       "  </tbody>\n",
       "</table>\n",
       "</div>"
      ],
      "text/plain": [
       "       N    P    K  temperature   humidity        ph    rainfall   label\n",
       "1202  22  123  205    32.445778  83.885049  5.896343   68.739325  grapes\n",
       "1203  36  125  196    37.465668  80.659687  6.155261   66.838723  grapes\n",
       "1205   2  123  198    39.648519  82.210799  6.253035   70.399061  grapes\n",
       "1207  11  122  195    12.141907  83.568125  5.647202   69.631220  grapes\n",
       "1208   6  123  203    12.756796  81.624974  6.130310   66.778446  grapes\n",
       "1212   9  122  201    29.587484  80.919344  5.570291   68.064173  grapes\n",
       "1218  28  122  197    19.893639  82.733664  5.856575   69.662568  grapes\n",
       "1223  25  121  201    30.507348  82.717756  5.594241   70.082004  grapes\n",
       "1224  15  125  199    18.426994  80.556259  5.569230   69.757343  grapes\n",
       "1227   5  126  197    12.800004  81.208764  6.417501   67.104394  grapes\n",
       "1228  30  120  200    38.060995  82.247296  6.234904   65.701482  grapes\n",
       "1231   7  126  203    16.762017  82.003356  5.662140   73.287128  grapes\n",
       "1239  20  122  204    11.797647  80.863254  6.487370   65.069625  grapes\n",
       "1240  40  126  201    11.363009  80.031000  6.116983   71.182894  grapes\n",
       "1244  19  123  200    34.760861  81.035448  6.167014   65.704300  grapes\n",
       "1248   8  127  196    27.027661  83.170939  5.833302   70.956660  grapes\n",
       "1250  32  120  204    10.380048  83.445181  6.138959   67.391738  grapes\n",
       "1256  39  127  202    15.324665  81.672160  6.477768   71.601030  grapes\n",
       "1257  19  120  195    18.739322  81.121092  5.931538   73.558080  grapes\n",
       "1266  40  121  199    26.181597  81.038863  6.315586   66.059117  grapes\n",
       "1269  32  121  199    39.371026  81.253539  6.129813   74.081017  grapes\n",
       "1271   8  120  196    24.066794  82.663967  6.053663   69.818558  grapes\n",
       "1280  33  120  205    35.121583  82.268908  5.550832   69.715185  grapes\n",
       "1281  35  125  204    19.649177  80.152158  6.107742   73.695296  grapes\n",
       "1287  29  122  196    41.948657  81.155952  5.638328   73.068630  grapes\n",
       "1289  38  120  197    17.543830  82.947033  6.323723   73.770637  grapes\n",
       "1291  14  121  203     9.724458  83.747656  6.158689   74.464111  grapes\n",
       "1292   6  125  204    27.920049  82.932624  5.733540   69.920928  grapes\n",
       "1294  11  124  204    13.429886  80.066340  6.361141   71.400430  grapes\n",
       "1298  37  124  195    18.706791  83.479529  6.209928   66.596449  grapes\n",
       "1503   8  120  201    21.186674  91.134357  6.321152  122.233323   apple\n",
       "1507   0  123  205    22.027754  92.961295  5.790993  121.134918   apple\n",
       "1509   1  124  199    23.710591  93.273924  5.658474  112.667659   apple\n",
       "1510  30  122  197    21.377847  92.720437  5.573241  106.141702   apple\n",
       "1511  29  121  196    22.848528  94.321302  6.079497  123.597784   apple\n",
       "1512  13  126  204    23.109427  92.796308  6.383180  108.183792   apple\n",
       "1518  33  121  203    22.456967  94.762854  5.605934  114.840772   apple\n",
       "1530  37  126  196    23.599973  90.975977  5.596449  107.172819   apple\n",
       "1531   2  120  203    23.126527  94.712033  5.893493  108.621183   apple\n",
       "1536  18  125  204    22.355482  94.478118  6.046674  116.736626   apple\n",
       "1537  13  121  196    22.207010  93.505742  6.443383  120.159377   apple\n",
       "1538  26  122  202    22.445170  94.737635  5.617227  107.184327   apple\n",
       "1539  28  123  202    22.766430  92.124385  6.442289  120.435995   apple\n",
       "1540  26  121  201    22.191094  90.025751  6.162034  112.312663   apple\n",
       "1544   2  123  205    22.366293  90.785725  5.739652  124.983162   apple\n",
       "1549  19  122  202    23.344674  90.379815  5.811975  112.895402   apple\n",
       "1550  10  125  196    22.312537  90.035771  5.730557  113.068815   apple\n",
       "1552  28  123  198    23.462603  91.456650  5.682751  111.776340   apple\n",
       "1557  30  127  204    22.500503  92.458783  6.126437  100.934390   apple\n",
       "1560  26  126  195    21.413638  92.991245  5.878569  118.397907   apple\n",
       "1562   6  124  200    22.982081  93.845050  5.971332  109.585225   apple\n",
       "1567  27  120  200    21.452787  90.745319  6.110219  116.703658   apple\n",
       "1570  15  123  204    22.527093  92.547804  6.365973  115.383007   apple\n",
       "1579  18  125  203    22.443077  91.592340  6.160267  102.556581   apple\n",
       "1589  31  121  201    23.157911  90.343969  5.731535  110.712841   apple\n",
       "1595  40  120  197    23.805938  92.488795  5.889481  119.633555   apple"
      ]
     },
     "execution_count": 56,
     "metadata": {},
     "output_type": "execute_result"
    }
   ],
   "source": [
    "df[df['K']>upper_limit]"
   ]
  },
  {
   "cell_type": "code",
   "execution_count": 57,
   "id": "dccdc2ac-d74b-45b9-a0fd-7bf9fd1c3f6f",
   "metadata": {},
   "outputs": [
    {
     "data": {
      "text/html": [
       "<div>\n",
       "<style scoped>\n",
       "    .dataframe tbody tr th:only-of-type {\n",
       "        vertical-align: middle;\n",
       "    }\n",
       "\n",
       "    .dataframe tbody tr th {\n",
       "        vertical-align: top;\n",
       "    }\n",
       "\n",
       "    .dataframe thead th {\n",
       "        text-align: right;\n",
       "    }\n",
       "</style>\n",
       "<table border=\"1\" class=\"dataframe\">\n",
       "  <thead>\n",
       "    <tr style=\"text-align: right;\">\n",
       "      <th></th>\n",
       "      <th>N</th>\n",
       "      <th>P</th>\n",
       "      <th>K</th>\n",
       "      <th>temperature</th>\n",
       "      <th>humidity</th>\n",
       "      <th>ph</th>\n",
       "      <th>rainfall</th>\n",
       "      <th>label</th>\n",
       "    </tr>\n",
       "  </thead>\n",
       "  <tbody>\n",
       "  </tbody>\n",
       "</table>\n",
       "</div>"
      ],
      "text/plain": [
       "Empty DataFrame\n",
       "Columns: [N, P, K, temperature, humidity, ph, rainfall, label]\n",
       "Index: []"
      ]
     },
     "execution_count": 57,
     "metadata": {},
     "output_type": "execute_result"
    }
   ],
   "source": [
    "df[df['K'] < lower_limit]"
   ]
  },
  {
   "cell_type": "code",
   "execution_count": 58,
   "id": "eae6a2f8-5bb5-4af6-9523-899bf2fb003b",
   "metadata": {},
   "outputs": [
    {
     "data": {
      "text/plain": [
       "(1988, 8)"
      ]
     },
     "execution_count": 58,
     "metadata": {},
     "output_type": "execute_result"
    }
   ],
   "source": [
    "df = df[df['K'] < upper_limit]\n",
    "df.shape"
   ]
  },
  {
   "cell_type": "code",
   "execution_count": 59,
   "id": "c8dfb96d-e2df-4a92-b59b-82019614e4b2",
   "metadata": {},
   "outputs": [
    {
     "data": {
      "image/png": "[encoded data removed]",
      "text/plain": [
       "<Figure size 1600x500 with 2 Axes>"
      ]
     },
     "metadata": {},
     "output_type": "display_data"
    }
   ],
   "source": [
    "plt.figure(figsize=(16, 5))\n",
    "\n",
    "# First subplot\n",
    "plt.subplot(2, 2, 3)  \n",
    "sns.histplot(df['P'], kde=True, color='blue')\n",
    "plt.subplot(2, 2, 4) \n",
    "sns.boxplot(df['P'])\n",
    "plt.show()"
   ]
  },
  {
   "cell_type": "code",
   "execution_count": 60,
   "id": "7bd42509-ee39-42a5-a370-ee7f6fbd149c",
   "metadata": {},
   "outputs": [
    {
     "data": {
      "text/plain": [
       "<Axes: ylabel='humidity'>"
      ]
     },
     "execution_count": 60,
     "metadata": {},
     "output_type": "execute_result"
    },
    {
     "data": {
      "image/png": "[encoded data removed]",
      "text/plain": [
       "<Figure size 640x480 with 1 Axes>"
      ]
     },
     "metadata": {},
     "output_type": "display_data"
    }
   ],
   "source": [
    "df['humidity'].skew()\n",
    "df['humidity'].describe()\n",
    "sns.boxplot(df['humidity'])"
   ]
  },
  {
   "cell_type": "code",
   "execution_count": 61,
   "id": "af4e970b-88bf-4bbc-9ab6-c41e9d10adfe",
   "metadata": {},
   "outputs": [
    {
     "data": {
      "text/plain": [
       "<Axes: ylabel='ph'>"
      ]
     },
     "execution_count": 61,
     "metadata": {},
     "output_type": "execute_result"
    },
    {
     "data": {
      "image/png": "[encoded data removed]",
      "text/plain": [
       "<Figure size 640x480 with 1 Axes>"
      ]
     },
     "metadata": {},
     "output_type": "display_data"
    }
   ],
   "source": [
    "df['ph'].skew()\n",
    "df['ph'].describe()\n",
    "sns.boxplot(df['ph'])"
   ]
  },
  {
   "cell_type": "code",
   "execution_count": 62,
   "id": "cd1b9dc3-f62c-407b-a1b4-db025816e4c9",
   "metadata": {},
   "outputs": [
    {
     "data": {
      "text/plain": [
       "6.97012755075"
      ]
     },
     "execution_count": 62,
     "metadata": {},
     "output_type": "execute_result"
    }
   ],
   "source": [
    "percentile25 = df['ph'].quantile(0.25)\n",
    "percentile75 = df['ph'].quantile(0.75)\n",
    "percentile75\n"
   ]
  },
  {
   "cell_type": "code",
   "execution_count": 63,
   "id": "c3b01253-df7c-45fa-80f0-3d70e0f495db",
   "metadata": {},
   "outputs": [
    {
     "data": {
      "text/plain": [
       "0.93856559525"
      ]
     },
     "execution_count": 63,
     "metadata": {},
     "output_type": "execute_result"
    }
   ],
   "source": [
    "iqr = percentile75 - percentile25\n",
    "iqr"
   ]
  },
  {
   "cell_type": "code",
   "execution_count": 64,
   "id": "79a436a3-07a0-4fc5-8db5-c12370e93e57",
   "metadata": {},
   "outputs": [
    {
     "name": "stdout",
     "output_type": "stream",
     "text": [
      "upperlimit 8.377975943625\n",
      "lowerlimit 4.623713562624999\n"
     ]
    }
   ],
   "source": [
    "upper_limit = percentile75 + 1.5 * iqr\n",
    "lower_limit = percentile25 - 1.5 * iqr\n",
    "print(\"upperlimit\", upper_limit)\n",
    "print(\"lowerlimit\", lower_limit)"
   ]
  },
  {
   "cell_type": "code",
   "execution_count": 65,
   "id": "1c9c5497-3af5-4463-b271-514be7b3262e",
   "metadata": {},
   "outputs": [
    {
     "data": {
      "text/html": [
       "<div>\n",
       "<style scoped>\n",
       "    .dataframe tbody tr th:only-of-type {\n",
       "        vertical-align: middle;\n",
       "    }\n",
       "\n",
       "    .dataframe tbody tr th {\n",
       "        vertical-align: top;\n",
       "    }\n",
       "\n",
       "    .dataframe thead th {\n",
       "        text-align: right;\n",
       "    }\n",
       "</style>\n",
       "<table border=\"1\" class=\"dataframe\">\n",
       "  <thead>\n",
       "    <tr style=\"text-align: right;\">\n",
       "      <th></th>\n",
       "      <th>N</th>\n",
       "      <th>P</th>\n",
       "      <th>K</th>\n",
       "      <th>temperature</th>\n",
       "      <th>humidity</th>\n",
       "      <th>ph</th>\n",
       "      <th>rainfall</th>\n",
       "      <th>label</th>\n",
       "    </tr>\n",
       "  </thead>\n",
       "  <tbody>\n",
       "    <tr>\n",
       "      <th>209</th>\n",
       "      <td>28</td>\n",
       "      <td>74</td>\n",
       "      <td>81</td>\n",
       "      <td>18.012723</td>\n",
       "      <td>18.309681</td>\n",
       "      <td>8.753795</td>\n",
       "      <td>81.985688</td>\n",
       "      <td>chickpea</td>\n",
       "    </tr>\n",
       "    <tr>\n",
       "      <th>210</th>\n",
       "      <td>58</td>\n",
       "      <td>66</td>\n",
       "      <td>79</td>\n",
       "      <td>20.993736</td>\n",
       "      <td>19.334704</td>\n",
       "      <td>8.718193</td>\n",
       "      <td>93.552801</td>\n",
       "      <td>chickpea</td>\n",
       "    </tr>\n",
       "    <tr>\n",
       "      <th>222</th>\n",
       "      <td>31</td>\n",
       "      <td>78</td>\n",
       "      <td>76</td>\n",
       "      <td>17.572121</td>\n",
       "      <td>14.999275</td>\n",
       "      <td>8.519976</td>\n",
       "      <td>89.310507</td>\n",
       "      <td>chickpea</td>\n",
       "    </tr>\n",
       "    <tr>\n",
       "      <th>232</th>\n",
       "      <td>32</td>\n",
       "      <td>60</td>\n",
       "      <td>83</td>\n",
       "      <td>19.691417</td>\n",
       "      <td>19.442254</td>\n",
       "      <td>8.829273</td>\n",
       "      <td>91.760716</td>\n",
       "      <td>chickpea</td>\n",
       "    </tr>\n",
       "    <tr>\n",
       "      <th>233</th>\n",
       "      <td>22</td>\n",
       "      <td>78</td>\n",
       "      <td>76</td>\n",
       "      <td>17.848517</td>\n",
       "      <td>19.091729</td>\n",
       "      <td>8.621663</td>\n",
       "      <td>76.324707</td>\n",
       "      <td>chickpea</td>\n",
       "    </tr>\n",
       "    <tr>\n",
       "      <th>240</th>\n",
       "      <td>38</td>\n",
       "      <td>60</td>\n",
       "      <td>76</td>\n",
       "      <td>18.650541</td>\n",
       "      <td>17.808524</td>\n",
       "      <td>8.868741</td>\n",
       "      <td>77.927987</td>\n",
       "      <td>chickpea</td>\n",
       "    </tr>\n",
       "    <tr>\n",
       "      <th>241</th>\n",
       "      <td>59</td>\n",
       "      <td>55</td>\n",
       "      <td>79</td>\n",
       "      <td>20.367204</td>\n",
       "      <td>16.895743</td>\n",
       "      <td>8.766129</td>\n",
       "      <td>82.254558</td>\n",
       "      <td>chickpea</td>\n",
       "    </tr>\n",
       "    <tr>\n",
       "      <th>242</th>\n",
       "      <td>36</td>\n",
       "      <td>76</td>\n",
       "      <td>75</td>\n",
       "      <td>18.381204</td>\n",
       "      <td>16.638052</td>\n",
       "      <td>8.736338</td>\n",
       "      <td>70.520567</td>\n",
       "      <td>chickpea</td>\n",
       "    </tr>\n",
       "    <tr>\n",
       "      <th>246</th>\n",
       "      <td>52</td>\n",
       "      <td>60</td>\n",
       "      <td>79</td>\n",
       "      <td>19.453399</td>\n",
       "      <td>18.234907</td>\n",
       "      <td>8.380185</td>\n",
       "      <td>75.631757</td>\n",
       "      <td>chickpea</td>\n",
       "    </tr>\n",
       "    <tr>\n",
       "      <th>287</th>\n",
       "      <td>37</td>\n",
       "      <td>55</td>\n",
       "      <td>82</td>\n",
       "      <td>19.455918</td>\n",
       "      <td>18.022359</td>\n",
       "      <td>8.423874</td>\n",
       "      <td>78.449106</td>\n",
       "      <td>chickpea</td>\n",
       "    </tr>\n",
       "    <tr>\n",
       "      <th>288</th>\n",
       "      <td>53</td>\n",
       "      <td>65</td>\n",
       "      <td>76</td>\n",
       "      <td>20.191378</td>\n",
       "      <td>16.419983</td>\n",
       "      <td>8.719961</td>\n",
       "      <td>77.337954</td>\n",
       "      <td>chickpea</td>\n",
       "    </tr>\n",
       "    <tr>\n",
       "      <th>295</th>\n",
       "      <td>57</td>\n",
       "      <td>56</td>\n",
       "      <td>78</td>\n",
       "      <td>17.341502</td>\n",
       "      <td>18.756263</td>\n",
       "      <td>8.861480</td>\n",
       "      <td>67.954543</td>\n",
       "      <td>chickpea</td>\n",
       "    </tr>\n",
       "    <tr>\n",
       "      <th>502</th>\n",
       "      <td>36</td>\n",
       "      <td>58</td>\n",
       "      <td>25</td>\n",
       "      <td>28.660242</td>\n",
       "      <td>59.318912</td>\n",
       "      <td>8.399136</td>\n",
       "      <td>36.926297</td>\n",
       "      <td>mothbeans</td>\n",
       "    </tr>\n",
       "    <tr>\n",
       "      <th>503</th>\n",
       "      <td>4</td>\n",
       "      <td>43</td>\n",
       "      <td>18</td>\n",
       "      <td>29.029553</td>\n",
       "      <td>61.093875</td>\n",
       "      <td>8.840656</td>\n",
       "      <td>72.980166</td>\n",
       "      <td>mothbeans</td>\n",
       "    </tr>\n",
       "    <tr>\n",
       "      <th>507</th>\n",
       "      <td>5</td>\n",
       "      <td>35</td>\n",
       "      <td>20</td>\n",
       "      <td>28.929526</td>\n",
       "      <td>53.570147</td>\n",
       "      <td>9.679241</td>\n",
       "      <td>66.356341</td>\n",
       "      <td>mothbeans</td>\n",
       "    </tr>\n",
       "    <tr>\n",
       "      <th>514</th>\n",
       "      <td>23</td>\n",
       "      <td>45</td>\n",
       "      <td>21</td>\n",
       "      <td>31.465113</td>\n",
       "      <td>51.799394</td>\n",
       "      <td>8.985348</td>\n",
       "      <td>74.443307</td>\n",
       "      <td>mothbeans</td>\n",
       "    </tr>\n",
       "    <tr>\n",
       "      <th>518</th>\n",
       "      <td>7</td>\n",
       "      <td>45</td>\n",
       "      <td>22</td>\n",
       "      <td>25.506346</td>\n",
       "      <td>44.830255</td>\n",
       "      <td>9.926212</td>\n",
       "      <td>74.326351</td>\n",
       "      <td>mothbeans</td>\n",
       "    </tr>\n",
       "    <tr>\n",
       "      <th>523</th>\n",
       "      <td>28</td>\n",
       "      <td>48</td>\n",
       "      <td>15</td>\n",
       "      <td>25.161254</td>\n",
       "      <td>55.254358</td>\n",
       "      <td>9.254089</td>\n",
       "      <td>40.897328</td>\n",
       "      <td>mothbeans</td>\n",
       "    </tr>\n",
       "    <tr>\n",
       "      <th>536</th>\n",
       "      <td>6</td>\n",
       "      <td>36</td>\n",
       "      <td>22</td>\n",
       "      <td>24.216103</td>\n",
       "      <td>59.792363</td>\n",
       "      <td>8.869533</td>\n",
       "      <td>42.247835</td>\n",
       "      <td>mothbeans</td>\n",
       "    </tr>\n",
       "    <tr>\n",
       "      <th>540</th>\n",
       "      <td>25</td>\n",
       "      <td>51</td>\n",
       "      <td>24</td>\n",
       "      <td>25.504242</td>\n",
       "      <td>61.668524</td>\n",
       "      <td>9.392695</td>\n",
       "      <td>65.079815</td>\n",
       "      <td>mothbeans</td>\n",
       "    </tr>\n",
       "    <tr>\n",
       "      <th>545</th>\n",
       "      <td>29</td>\n",
       "      <td>44</td>\n",
       "      <td>20</td>\n",
       "      <td>30.041323</td>\n",
       "      <td>63.562230</td>\n",
       "      <td>8.620108</td>\n",
       "      <td>31.831924</td>\n",
       "      <td>mothbeans</td>\n",
       "    </tr>\n",
       "    <tr>\n",
       "      <th>546</th>\n",
       "      <td>25</td>\n",
       "      <td>51</td>\n",
       "      <td>18</td>\n",
       "      <td>27.777995</td>\n",
       "      <td>54.821308</td>\n",
       "      <td>9.459493</td>\n",
       "      <td>50.284387</td>\n",
       "      <td>mothbeans</td>\n",
       "    </tr>\n",
       "    <tr>\n",
       "      <th>550</th>\n",
       "      <td>3</td>\n",
       "      <td>58</td>\n",
       "      <td>21</td>\n",
       "      <td>25.361405</td>\n",
       "      <td>46.826528</td>\n",
       "      <td>9.160692</td>\n",
       "      <td>55.605232</td>\n",
       "      <td>mothbeans</td>\n",
       "    </tr>\n",
       "    <tr>\n",
       "      <th>553</th>\n",
       "      <td>39</td>\n",
       "      <td>36</td>\n",
       "      <td>22</td>\n",
       "      <td>29.343174</td>\n",
       "      <td>60.503209</td>\n",
       "      <td>9.072011</td>\n",
       "      <td>34.033355</td>\n",
       "      <td>mothbeans</td>\n",
       "    </tr>\n",
       "    <tr>\n",
       "      <th>560</th>\n",
       "      <td>22</td>\n",
       "      <td>55</td>\n",
       "      <td>24</td>\n",
       "      <td>28.568006</td>\n",
       "      <td>57.306360</td>\n",
       "      <td>8.660780</td>\n",
       "      <td>64.530276</td>\n",
       "      <td>mothbeans</td>\n",
       "    </tr>\n",
       "    <tr>\n",
       "      <th>563</th>\n",
       "      <td>28</td>\n",
       "      <td>57</td>\n",
       "      <td>17</td>\n",
       "      <td>30.477577</td>\n",
       "      <td>61.582453</td>\n",
       "      <td>9.416003</td>\n",
       "      <td>61.866339</td>\n",
       "      <td>mothbeans</td>\n",
       "    </tr>\n",
       "    <tr>\n",
       "      <th>568</th>\n",
       "      <td>25</td>\n",
       "      <td>35</td>\n",
       "      <td>20</td>\n",
       "      <td>28.902454</td>\n",
       "      <td>43.353657</td>\n",
       "      <td>8.923096</td>\n",
       "      <td>71.900186</td>\n",
       "      <td>mothbeans</td>\n",
       "    </tr>\n",
       "    <tr>\n",
       "      <th>572</th>\n",
       "      <td>3</td>\n",
       "      <td>56</td>\n",
       "      <td>17</td>\n",
       "      <td>28.199121</td>\n",
       "      <td>53.505676</td>\n",
       "      <td>8.709292</td>\n",
       "      <td>52.135805</td>\n",
       "      <td>mothbeans</td>\n",
       "    </tr>\n",
       "    <tr>\n",
       "      <th>577</th>\n",
       "      <td>7</td>\n",
       "      <td>40</td>\n",
       "      <td>17</td>\n",
       "      <td>31.212394</td>\n",
       "      <td>40.926049</td>\n",
       "      <td>8.532079</td>\n",
       "      <td>53.787700</td>\n",
       "      <td>mothbeans</td>\n",
       "    </tr>\n",
       "    <tr>\n",
       "      <th>583</th>\n",
       "      <td>29</td>\n",
       "      <td>41</td>\n",
       "      <td>21</td>\n",
       "      <td>31.493981</td>\n",
       "      <td>62.849169</td>\n",
       "      <td>8.869797</td>\n",
       "      <td>64.568076</td>\n",
       "      <td>mothbeans</td>\n",
       "    </tr>\n",
       "    <tr>\n",
       "      <th>584</th>\n",
       "      <td>20</td>\n",
       "      <td>50</td>\n",
       "      <td>22</td>\n",
       "      <td>30.996947</td>\n",
       "      <td>46.426937</td>\n",
       "      <td>9.406888</td>\n",
       "      <td>38.315979</td>\n",
       "      <td>mothbeans</td>\n",
       "    </tr>\n",
       "    <tr>\n",
       "      <th>587</th>\n",
       "      <td>35</td>\n",
       "      <td>55</td>\n",
       "      <td>22</td>\n",
       "      <td>30.888831</td>\n",
       "      <td>52.626968</td>\n",
       "      <td>8.634930</td>\n",
       "      <td>55.519324</td>\n",
       "      <td>mothbeans</td>\n",
       "    </tr>\n",
       "    <tr>\n",
       "      <th>590</th>\n",
       "      <td>35</td>\n",
       "      <td>38</td>\n",
       "      <td>19</td>\n",
       "      <td>25.326888</td>\n",
       "      <td>63.181803</td>\n",
       "      <td>9.112772</td>\n",
       "      <td>32.711293</td>\n",
       "      <td>mothbeans</td>\n",
       "    </tr>\n",
       "    <tr>\n",
       "      <th>594</th>\n",
       "      <td>35</td>\n",
       "      <td>52</td>\n",
       "      <td>15</td>\n",
       "      <td>28.698413</td>\n",
       "      <td>61.147544</td>\n",
       "      <td>9.935091</td>\n",
       "      <td>65.675918</td>\n",
       "      <td>mothbeans</td>\n",
       "    </tr>\n",
       "    <tr>\n",
       "      <th>595</th>\n",
       "      <td>4</td>\n",
       "      <td>59</td>\n",
       "      <td>22</td>\n",
       "      <td>29.337434</td>\n",
       "      <td>49.003231</td>\n",
       "      <td>8.914075</td>\n",
       "      <td>42.440543</td>\n",
       "      <td>mothbeans</td>\n",
       "    </tr>\n",
       "    <tr>\n",
       "      <th>596</th>\n",
       "      <td>22</td>\n",
       "      <td>51</td>\n",
       "      <td>16</td>\n",
       "      <td>27.965837</td>\n",
       "      <td>61.349001</td>\n",
       "      <td>8.639586</td>\n",
       "      <td>70.104721</td>\n",
       "      <td>mothbeans</td>\n",
       "    </tr>\n",
       "    <tr>\n",
       "      <th>597</th>\n",
       "      <td>33</td>\n",
       "      <td>47</td>\n",
       "      <td>17</td>\n",
       "      <td>24.868040</td>\n",
       "      <td>48.275320</td>\n",
       "      <td>8.621514</td>\n",
       "      <td>63.918765</td>\n",
       "      <td>mothbeans</td>\n",
       "    </tr>\n",
       "  </tbody>\n",
       "</table>\n",
       "</div>"
      ],
      "text/plain": [
       "      N   P   K  temperature   humidity        ph   rainfall      label\n",
       "209  28  74  81    18.012723  18.309681  8.753795  81.985688   chickpea\n",
       "210  58  66  79    20.993736  19.334704  8.718193  93.552801   chickpea\n",
       "222  31  78  76    17.572121  14.999275  8.519976  89.310507   chickpea\n",
       "232  32  60  83    19.691417  19.442254  8.829273  91.760716   chickpea\n",
       "233  22  78  76    17.848517  19.091729  8.621663  76.324707   chickpea\n",
       "240  38  60  76    18.650541  17.808524  8.868741  77.927987   chickpea\n",
       "241  59  55  79    20.367204  16.895743  8.766129  82.254558   chickpea\n",
       "242  36  76  75    18.381204  16.638052  8.736338  70.520567   chickpea\n",
       "246  52  60  79    19.453399  18.234907  8.380185  75.631757   chickpea\n",
       "287  37  55  82    19.455918  18.022359  8.423874  78.449106   chickpea\n",
       "288  53  65  76    20.191378  16.419983  8.719961  77.337954   chickpea\n",
       "295  57  56  78    17.341502  18.756263  8.861480  67.954543   chickpea\n",
       "502  36  58  25    28.660242  59.318912  8.399136  36.926297  mothbeans\n",
       "503   4  43  18    29.029553  61.093875  8.840656  72.980166  mothbeans\n",
       "507   5  35  20    28.929526  53.570147  9.679241  66.356341  mothbeans\n",
       "514  23  45  21    31.465113  51.799394  8.985348  74.443307  mothbeans\n",
       "518   7  45  22    25.506346  44.830255  9.926212  74.326351  mothbeans\n",
       "523  28  48  15    25.161254  55.254358  9.254089  40.897328  mothbeans\n",
       "536   6  36  22    24.216103  59.792363  8.869533  42.247835  mothbeans\n",
       "540  25  51  24    25.504242  61.668524  9.392695  65.079815  mothbeans\n",
       "545  29  44  20    30.041323  63.562230  8.620108  31.831924  mothbeans\n",
       "546  25  51  18    27.777995  54.821308  9.459493  50.284387  mothbeans\n",
       "550   3  58  21    25.361405  46.826528  9.160692  55.605232  mothbeans\n",
       "553  39  36  22    29.343174  60.503209  9.072011  34.033355  mothbeans\n",
       "560  22  55  24    28.568006  57.306360  8.660780  64.530276  mothbeans\n",
       "563  28  57  17    30.477577  61.582453  9.416003  61.866339  mothbeans\n",
       "568  25  35  20    28.902454  43.353657  8.923096  71.900186  mothbeans\n",
       "572   3  56  17    28.199121  53.505676  8.709292  52.135805  mothbeans\n",
       "577   7  40  17    31.212394  40.926049  8.532079  53.787700  mothbeans\n",
       "583  29  41  21    31.493981  62.849169  8.869797  64.568076  mothbeans\n",
       "584  20  50  22    30.996947  46.426937  9.406888  38.315979  mothbeans\n",
       "587  35  55  22    30.888831  52.626968  8.634930  55.519324  mothbeans\n",
       "590  35  38  19    25.326888  63.181803  9.112772  32.711293  mothbeans\n",
       "594  35  52  15    28.698413  61.147544  9.935091  65.675918  mothbeans\n",
       "595   4  59  22    29.337434  49.003231  8.914075  42.440543  mothbeans\n",
       "596  22  51  16    27.965837  61.349001  8.639586  70.104721  mothbeans\n",
       "597  33  47  17    24.868040  48.275320  8.621514  63.918765  mothbeans"
      ]
     },
     "execution_count": 65,
     "metadata": {},
     "output_type": "execute_result"
    }
   ],
   "source": [
    "df[df['ph']>upper_limit]"
   ]
  },
  {
   "cell_type": "code",
   "execution_count": 66,
   "id": "90117529-6ea0-4edb-b119-7fcfd5b9a17a",
   "metadata": {},
   "outputs": [
    {
     "data": {
      "text/html": [
       "<div>\n",
       "<style scoped>\n",
       "    .dataframe tbody tr th:only-of-type {\n",
       "        vertical-align: middle;\n",
       "    }\n",
       "\n",
       "    .dataframe tbody tr th {\n",
       "        vertical-align: top;\n",
       "    }\n",
       "\n",
       "    .dataframe thead th {\n",
       "        text-align: right;\n",
       "    }\n",
       "</style>\n",
       "<table border=\"1\" class=\"dataframe\">\n",
       "  <thead>\n",
       "    <tr style=\"text-align: right;\">\n",
       "      <th></th>\n",
       "      <th>N</th>\n",
       "      <th>P</th>\n",
       "      <th>K</th>\n",
       "      <th>temperature</th>\n",
       "      <th>humidity</th>\n",
       "      <th>ph</th>\n",
       "      <th>rainfall</th>\n",
       "      <th>label</th>\n",
       "    </tr>\n",
       "  </thead>\n",
       "  <tbody>\n",
       "  </tbody>\n",
       "</table>\n",
       "</div>"
      ],
      "text/plain": [
       "Empty DataFrame\n",
       "Columns: [N, P, K, temperature, humidity, ph, rainfall, label]\n",
       "Index: []"
      ]
     },
     "execution_count": 66,
     "metadata": {},
     "output_type": "execute_result"
    }
   ],
   "source": [
    "df[df['K'] < lower_limit]"
   ]
  },
  {
   "cell_type": "code",
   "execution_count": 67,
   "id": "9c6c40a6-c11e-43dd-a5fb-5e49e7bf8717",
   "metadata": {},
   "outputs": [
    {
     "data": {
      "text/plain": [
       "(34, 8)"
      ]
     },
     "execution_count": 67,
     "metadata": {},
     "output_type": "execute_result"
    }
   ],
   "source": [
    "df = df[df['K'] < upper_limit]\n",
    "df.shape"
   ]
  },
  {
   "cell_type": "code",
   "execution_count": 68,
   "id": "2c88ddcd-3ec4-44e1-9c24-2a7aca53c88b",
   "metadata": {},
   "outputs": [
    {
     "data": {
      "image/png": "[encoded data removed]",
      "text/plain": [
       "<Figure size 1600x500 with 2 Axes>"
      ]
     },
     "metadata": {},
     "output_type": "display_data"
    }
   ],
   "source": [
    "plt.figure(figsize=(16, 5))\n",
    "\n",
    "# First subplot\n",
    "plt.subplot(2, 2, 3)  \n",
    "sns.histplot(df['ph'], kde=True, color='blue')\n",
    "plt.subplot(2, 2, 4) \n",
    "sns.boxplot(df['ph'])\n",
    "plt.show()"
   ]
  },
  {
   "cell_type": "code",
   "execution_count": 69,
   "id": "4684a33a-3b1e-42eb-bba8-7e889a5c95ab",
   "metadata": {},
   "outputs": [
    {
     "data": {
      "text/plain": [
       "<Axes: ylabel='rainfall'>"
      ]
     },
     "execution_count": 69,
     "metadata": {},
     "output_type": "execute_result"
    },
    {
     "data": {
      "image/png": "[encoded data removed]",
      "text/plain": [
       "<Figure size 640x480 with 1 Axes>"
      ]
     },
     "metadata": {},
     "output_type": "display_data"
    }
   ],
   "source": [
    "df['rainfall'].skew()\n",
    "df['rainfall'].describe()\n",
    "sns.boxplot(df['rainfall'])"
   ]
  },
  {
   "cell_type": "code",
   "execution_count": 74,
   "id": "217cc357-8d24-416a-b369-068a2da12645",
   "metadata": {},
   "outputs": [
    {
     "name": "stdout",
     "output_type": "stream",
     "text": [
      "Unique classes in original df: 1\n"
     ]
    }
   ],
   "source": [
    " print(\"Unique classes in original df:\", df['label'].nunique())"
   ]
  },
  {
   "cell_type": "code",
   "execution_count": 71,
   "id": "ca9c1620-3038-4741-bd44-7960047274b8",
   "metadata": {},
   "outputs": [
    {
     "name": "stdout",
     "output_type": "stream",
     "text": [
      "['orange']\n",
      "label\n",
      "orange    34\n",
      "Name: count, dtype: int64\n"
     ]
    }
   ],
   "source": [
    "print(df['label'].unique())\n",
    "print(df['label'].value_counts())"
   ]
  },
  {
   "cell_type": "markdown",
   "id": "92c5580e-693b-4422-83f3-744d582b8217",
   "metadata": {},
   "source": [
    "# Feature Scaling"
   ]
  },
  {
   "cell_type": "markdown",
   "id": "a2e0a8db-1a63-4d43-ab54-b4d3aa06270a",
   "metadata": {},
   "source": [
    "# MinMax scaling"
   ]
  },
  {
   "cell_type": "code",
   "execution_count": null,
   "id": "9da465c1-59ee-483e-8f14-16c87a5fd5f8",
   "metadata": {},
   "outputs": [],
   "source": [
    "from sklearn.preprocessing import StandardScaler\n",
    "from sklearn.preprocessing import MinMaxScaler"
   ]
  },
  {
   "cell_type": "code",
   "execution_count": null,
   "id": "d366b5c5-61e4-4132-ba86-92fccbe6cb0a",
   "metadata": {},
   "outputs": [],
   "source": [
    "# Step 1: Select only the numerical columns for scaling\n",
    "features = ['N', 'P', 'K', 'temperature', 'humidity', 'ph', 'rainfall']\n",
    "X = df[features]\n",
    "y = df['label']  # Target column remains unchanged"
   ]
  },
  {
   "cell_type": "code",
   "execution_count": null,
   "id": "0a45e681-cb04-4f4c-b4b7-2768f865baeb",
   "metadata": {},
   "outputs": [],
   "source": [
    "# Step 2: Initialize MinMaxScaler\n",
    "scaler = MinMaxScaler()\n",
    "\n",
    "# Step 3: Apply MinMax scaling\n",
    "X_scaled = scaler.fit_transform(X)"
   ]
  },
  {
   "cell_type": "code",
   "execution_count": null,
   "id": "16f42fdc-a9a9-4634-bb64-d1fd5f0a1f1b",
   "metadata": {},
   "outputs": [],
   "source": [
    "#  Step 4: Create DataFrame with scaled features\n",
    "X_scaled_df = pd.DataFrame(X_scaled, columns=features)\n",
    "\n",
    "#  Step 5: Add the label column back\n",
    "minmax_scaled_df = pd.concat([X_scaled_df, y], axis=1)\n",
    "\n",
    "# Step 6: Display result\n",
    "print(minmax_scaled_df.head())\n"
   ]
  },
  {
   "cell_type": "markdown",
   "id": "5f4a95e1-22e2-48a0-942b-048f482f8a60",
   "metadata": {},
   "source": [
    "# Standization (Z-score Normalization)"
   ]
  },
  {
   "cell_type": "code",
   "execution_count": 84,
   "id": "0cd0b749-d2d4-4818-ad2b-37b6d3c29148",
   "metadata": {},
   "outputs": [
    {
     "ename": "NameError",
     "evalue": "name 'StandardScaler' is not defined",
     "output_type": "error",
     "traceback": [
      "\u001b[1;31m---------------------------------------------------------------------------\u001b[0m",
      "\u001b[1;31mNameError\u001b[0m                                 Traceback (most recent call last)",
      "Cell \u001b[1;32mIn[84], line 1\u001b[0m\n\u001b[1;32m----> 1\u001b[0m scaler \u001b[38;5;241m=\u001b[39m \u001b[43mStandardScaler\u001b[49m()\n\u001b[0;32m      2\u001b[0m X_scaled \u001b[38;5;241m=\u001b[39m scaler\u001b[38;5;241m.\u001b[39mfit_transform(X)\n",
      "\u001b[1;31mNameError\u001b[0m: name 'StandardScaler' is not defined"
     ]
    }
   ],
   "source": [
    "scaler = StandardScaler()\n",
    "X_scaled = scaler.fit_transform(X)"
   ]
  },
  {
   "cell_type": "code",
   "execution_count": null,
   "id": "d18c87e1-947c-4e76-87b1-31db85f77411",
   "metadata": {},
   "outputs": [],
   "source": [
    "# Step 4: Create DataFrame with scaled features\n",
    "X_scaled_df = pd.DataFrame(X_scaled, columns=X.columns)\n",
    "\n",
    "# Step 5: Add label column back\n",
    "final_scaled_df = pd.concat([X_scaled_df, y], axis=1)\n",
    "\n",
    "# Step 6: Display result\n",
    "print(final_scaled_df.head())"
   ]
  },
  {
   "cell_type": "code",
   "execution_count": null,
   "id": "81c56a33-2736-4692-8a12-2d5ce115d782",
   "metadata": {},
   "outputs": [],
   "source": [
    "print(df['label'].unique())\n",
    "print(df['label'].value_counts())\n"
   ]
  },
  {
   "cell_type": "markdown",
   "id": "d4a047c6-8652-425c-8b6c-772dc6c71fa4",
   "metadata": {},
   "source": [
    "# PCA"
   ]
  },
  {
   "cell_type": "code",
   "execution_count": null,
   "id": "777dd61e-8370-4896-b75c-630f049af727",
   "metadata": {},
   "outputs": [],
   "source": [
    "from sklearn.decomposition import PCA"
   ]
  },
  {
   "cell_type": "code",
   "execution_count": null,
   "id": "7b12d40e-05bd-4774-a67c-e15e0469506c",
   "metadata": {},
   "outputs": [],
   "source": [
    "# 3. Encode text labels into numbers (needed for `c=...`)\n",
    "from sklearn.preprocessing import LabelEncoder\n",
    "le = LabelEncoder()\n",
    "y_encoded = le.fit_transform(df['label'])"
   ]
  },
  {
   "cell_type": "code",
   "execution_count": null,
   "id": "c9c59f27-496d-445a-9937-517ad6061787",
   "metadata": {},
   "outputs": [],
   "source": [
    "pca = PCA(n_components=2)\n",
    "pca.fit(X_scaled)"
   ]
  },
  {
   "cell_type": "code",
   "execution_count": null,
   "id": "2630d79a-11b9-4bef-a7f5-2343049dbc3e",
   "metadata": {},
   "outputs": [],
   "source": [
    "X_pca = pca.fit_transform(X_scaled)"
   ]
  },
  {
   "cell_type": "code",
   "execution_count": null,
   "id": "7a8445fa-0da4-42b7-bfc8-1ed2ef08c3b9",
   "metadata": {},
   "outputs": [],
   "source": [
    "X_scaled.shape"
   ]
  },
  {
   "cell_type": "code",
   "execution_count": null,
   "id": "81ed6374-633a-4fcd-920a-37198d6f0ae4",
   "metadata": {},
   "outputs": [],
   "source": [
    "X_pca.shape"
   ]
  },
  {
   "cell_type": "code",
   "execution_count": null,
   "id": "f93311b2-78b1-4a91-a60d-69988a2ebd13",
   "metadata": {},
   "outputs": [],
   "source": [
    "X_pca"
   ]
  },
  {
   "cell_type": "code",
   "execution_count": null,
   "id": "0dacbe11-93a5-4f32-9ef0-05e6a04c909b",
   "metadata": {},
   "outputs": [],
   "source": [
    "plt.figure(figsize=(8, 6))\n",
    "plt.scatter(X_pca[:, 0], X_pca[:, 1], c=y_encoded, cmap='plasma')\n",
    "plt.xlabel('First Principal Component')\n",
    "plt.ylabel('Second Principal Component')\n",
    "plt.clim(-0.5, len(le.classes_)-0.5)\n",
    "plt.grid(True)\n",
    "plt.show()"
   ]
  },
  {
   "cell_type": "markdown",
   "id": "ba98c900-a4db-42ea-8bc3-4c27a7be7a44",
   "metadata": {},
   "source": [
    "# Data Visualization"
   ]
  },
  {
   "cell_type": "code",
   "execution_count": null,
   "id": "ef357f49-b741-4ef4-99ae-82beb30e2131",
   "metadata": {},
   "outputs": [],
   "source": []
  },
  {
   "cell_type": "code",
   "execution_count": null,
   "id": "134c8fbf-c5ff-4cc5-8417-8ac7fcefb00a",
   "metadata": {},
   "outputs": [],
   "source": [
    "import seaborn as sns\n",
    "import matplotlib.pyplot as plt\n",
    "\n",
    "# Scatter plot: temperature vs rainfall, colored by crop (label)\n",
    "plt.figure(figsize=(10, 6))\n",
    "sns.scatterplot(\n",
    "    data=df,\n",
    "    x='temperature',\n",
    "    y='rainfall',\n",
    "    hue='label',              # color by crop label\n",
    "    palette='Set2',           # visually distinct colors\n",
    "    s=80,                     # size of points\n",
    "    edgecolor='black'\n",
    ")\n",
    "\n",
    "plt.title('Temperature vs Rainfall by Crop Type')\n",
    "plt.xlabel('Temperature (°C)')\n",
    "plt.ylabel('Rainfall (mm)')\n",
    "plt.grid(True)\n",
    "plt.legend(title='Crop Type', bbox_to_anchor=(1.05, 1), loc='upper left')\n",
    "plt.tight_layout()\n",
    "plt.show()\n"
   ]
  },
  {
   "cell_type": "code",
   "execution_count": null,
   "id": "cb4ac4a6-6923-47e6-8dcc-facea884f840",
   "metadata": {},
   "outputs": [],
   "source": []
  }
 ],
 "metadata": {
  "kernelspec": {
   "display_name": "Python 3 (ipykernel)",
   "language": "python",
   "name": "python3"
  },
  "language_info": {
   "codemirror_mode": {
    "name": "ipython",
    "version": 3
   },
   "file_extension": ".py",
   "mimetype": "text/x-python",
   "name": "python",
   "nbconvert_exporter": "python",
   "pygments_lexer": "ipython3",
   "version": "3.12.7"
  }
 },
 "nbformat": 4,
 "nbformat_minor": 5
}
